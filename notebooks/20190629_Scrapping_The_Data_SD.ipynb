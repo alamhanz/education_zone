{
 "cells": [
  {
   "cell_type": "markdown",
   "metadata": {},
   "source": [
    "# Scrapping the School Data (Elementary Schools)\n",
    "\n",
    "Getting all the details possible from the website [here](http://dapo.dikdasmen.kemdikbud.go.id/sp)\n",
    "\n",
    "# Goal\n",
    "\n",
    "Get The data\n",
    "\n",
    "# Plan\n",
    "\n",
    "Checklist what will be done on the notebook :\n",
    "\n",
    "    [*] Read the html\n",
    "    [*] Get URL from all Kabupaten Kota\n",
    "    [*] Get Elementary URL from all Kecamatan by Wrapper here (to_kecamatan_url_SD.py)\n",
    "\n",
    "# Summary\n",
    "\n",
    "The result will be a table about elementary school information in Indonesia"
   ]
  },
  {
   "cell_type": "code",
   "execution_count": 1,
   "metadata": {},
   "outputs": [],
   "source": [
    "import pandas as pd\n",
    "import matplotlib.pyplot as plt\n",
    "import requests\n",
    "import lxml.html as lh\n",
    "import pandas as pd\n",
    "from urllib.request import urlopen\n",
    "from selenium import webdriver\n",
    "import time\n",
    "import numpy as np\n",
    "import random"
   ]
  },
  {
   "cell_type": "code",
   "execution_count": 114,
   "metadata": {},
   "outputs": [],
   "source": [
    "RAW_PATH=\"../data/raw/\"\n",
    "RAW_KEC_PATH=RAW_PATH+\"kecamatan_partition_to_get_URL_school/\"\n",
    "INTERIM_PATH=\"../data/interim/\"\n",
    "INTERIM_PATH2=\"../data/interim/school_url/\"\n",
    "PROCESSED_PATH=\"../data/processed/\"\n",
    "MODEL_PATH=\"../models/\"\n",
    "CRM_PATH='../src/chromedriver'"
   ]
  },
  {
   "cell_type": "code",
   "execution_count": 3,
   "metadata": {},
   "outputs": [],
   "source": []
  },
  {
   "cell_type": "markdown",
   "metadata": {},
   "source": [
    "## URL"
   ]
  },
  {
   "cell_type": "code",
   "execution_count": 4,
   "metadata": {},
   "outputs": [],
   "source": [
    "MAIN_URL=\"http://dapo.dikdasmen.kemdikbud.go.id/sp\""
   ]
  },
  {
   "cell_type": "code",
   "execution_count": null,
   "metadata": {},
   "outputs": [],
   "source": []
  },
  {
   "cell_type": "markdown",
   "metadata": {},
   "source": [
    "## Get The Details"
   ]
  },
  {
   "cell_type": "code",
   "execution_count": 5,
   "metadata": {},
   "outputs": [],
   "source": [
    "# https://towardsdatascience.com/web-scraping-html-tables-with-python-c9baba21059\n",
    "def get_url_area(URL):\n",
    "    xr1=random.randint(5,10)\n",
    "    xr2=random.randint(3,xr1)\n",
    "    browser = webdriver.Chrome(CRM_PATH)\n",
    "    time.sleep(xr2)\n",
    "    browser.get(URL)\n",
    "    xr1=random.randint(7,(xr1+xr2))\n",
    "    xr2=random.randint(4,xr1)\n",
    "    time.sleep(xr1+xr2)\n",
    "    html_source = browser.page_source\n",
    "    browser.close()\n",
    "\n",
    "    #Store the contents of the website under doc\n",
    "    doc = lh.fromstring(html_source)\n",
    "    #Parse data that are stored between <tr>..</tr> of HTML\n",
    "    area = [s.text_content() for s in doc.xpath(\"//tr//a\")]\n",
    "    url_area = [(MAIN_URL[:-3]+s).strip() for s in doc.xpath(\"//tr//a/@href\")]\n",
    "\n",
    "    data=pd.DataFrame({'areas':area,'url_areas':url_area})\n",
    "    return data"
   ]
  },
  {
   "cell_type": "code",
   "execution_count": 6,
   "metadata": {},
   "outputs": [],
   "source": [
    "dd_prov=get_url_area(MAIN_URL)\n",
    "dd_prov.to_csv(RAW_PATH+\"url_dikdas_provinsi.csv\",index=False)"
   ]
  },
  {
   "cell_type": "code",
   "execution_count": 7,
   "metadata": {},
   "outputs": [
    {
     "data": {
      "text/plain": [
       "35"
      ]
     },
     "execution_count": 7,
     "metadata": {},
     "output_type": "execute_result"
    }
   ],
   "source": [
    "dd_prov.index.tolist()[:5]\n",
    "len(dd_prov)"
   ]
  },
  {
   "cell_type": "code",
   "execution_count": 8,
   "metadata": {},
   "outputs": [
    {
     "name": "stderr",
     "output_type": "stream",
     "text": [
      "/Users/alamhanz/anaconda/envs/py36/lib/python3.6/site-packages/ipykernel/__main__.py:4: SettingWithCopyWarning: \n",
      "A value is trying to be set on a copy of a slice from a DataFrame.\n",
      "Try using .loc[row_indexer,col_indexer] = value instead\n",
      "\n",
      "See the caveats in the documentation: http://pandas.pydata.org/pandas-docs/stable/indexing.html#indexing-view-versus-copy\n"
     ]
    },
    {
     "name": "stdout",
     "output_type": "stream",
     "text": [
      "http://dapo.dikdasmen.kemdikbud.go.id/sp/1/020000\n",
      "http://dapo.dikdasmen.kemdikbud.go.id/sp/1/050000\n",
      "http://dapo.dikdasmen.kemdikbud.go.id/sp/1/030000\n",
      "http://dapo.dikdasmen.kemdikbud.go.id/sp/1/070000\n",
      "http://dapo.dikdasmen.kemdikbud.go.id/sp/1/190000\n",
      "http://dapo.dikdasmen.kemdikbud.go.id/sp/1/240000\n",
      "http://dapo.dikdasmen.kemdikbud.go.id/sp/1/280000\n",
      "http://dapo.dikdasmen.kemdikbud.go.id/sp/1/120000\n",
      "http://dapo.dikdasmen.kemdikbud.go.id/sp/1/110000\n",
      "http://dapo.dikdasmen.kemdikbud.go.id/sp/1/130000\n",
      "http://dapo.dikdasmen.kemdikbud.go.id/sp/1/080000\n",
      "http://dapo.dikdasmen.kemdikbud.go.id/sp/1/090000\n",
      "http://dapo.dikdasmen.kemdikbud.go.id/sp/1/060000\n",
      "http://dapo.dikdasmen.kemdikbud.go.id/sp/1/230000\n",
      "http://dapo.dikdasmen.kemdikbud.go.id/sp/1/010000\n",
      "http://dapo.dikdasmen.kemdikbud.go.id/sp/1/180000\n",
      "http://dapo.dikdasmen.kemdikbud.go.id/sp/1/150000\n",
      "http://dapo.dikdasmen.kemdikbud.go.id/sp/1/140000\n",
      "http://dapo.dikdasmen.kemdikbud.go.id/sp/1/250000\n",
      "http://dapo.dikdasmen.kemdikbud.go.id/sp/1/200000\n",
      "http://dapo.dikdasmen.kemdikbud.go.id/sp/1/100000\n",
      "http://dapo.dikdasmen.kemdikbud.go.id/sp/1/170000\n",
      "http://dapo.dikdasmen.kemdikbud.go.id/sp/1/220000\n",
      "http://dapo.dikdasmen.kemdikbud.go.id/sp/1/160000\n",
      "http://dapo.dikdasmen.kemdikbud.go.id/sp/1/210000\n",
      "http://dapo.dikdasmen.kemdikbud.go.id/sp/1/040000\n",
      "http://dapo.dikdasmen.kemdikbud.go.id/sp/1/270000\n",
      "http://dapo.dikdasmen.kemdikbud.go.id/sp/1/260000\n",
      "http://dapo.dikdasmen.kemdikbud.go.id/sp/1/330000\n",
      "http://dapo.dikdasmen.kemdikbud.go.id/sp/1/310000\n",
      "http://dapo.dikdasmen.kemdikbud.go.id/sp/1/320000\n",
      "http://dapo.dikdasmen.kemdikbud.go.id/sp/1/300000\n",
      "http://dapo.dikdasmen.kemdikbud.go.id/sp/1/290000\n",
      "http://dapo.dikdasmen.kemdikbud.go.id/sp/1/340000\n",
      "http://dapo.dikdasmen.kemdikbud.go.id/sp/1/350000\n"
     ]
    }
   ],
   "source": [
    "## prov to kab kot\n",
    "list_dd=[]\n",
    "for ii in dd_prov.index.tolist():\n",
    "    d1=dd_prov.iloc[[ii]]\n",
    "    d1['key']=1\n",
    "    d1.columns=['provinsi','url_prov','key']\n",
    "    url1=d1['url_prov'].tolist()[0]\n",
    "    d1=d1[['provinsi','key']]\n",
    "    print(url1)\n",
    "    \n",
    "    d2=get_url_area(url1)\n",
    "    d2['key']=1\n",
    "    dmerg=pd.merge(d1, d2,on='key')\n",
    "    dmerg=dmerg[['provinsi','areas','url_areas']]\n",
    "    dmerg.columns=['provinsi','kab_kota','url']\n",
    "    list_dd.append(dmerg)\n",
    "    \n",
    "dd_kab_kot=pd.concat(list_dd)"
   ]
  },
  {
   "cell_type": "code",
   "execution_count": 9,
   "metadata": {},
   "outputs": [],
   "source": [
    "dd_kab_kot.to_csv(RAW_PATH+\"url_dikdas_kabkot.csv\",index=False)"
   ]
  },
  {
   "cell_type": "code",
   "execution_count": 29,
   "metadata": {},
   "outputs": [],
   "source": [
    "dd_kab_kot2=dd_kab_kot.reset_index()[['provinsi','kab_kota','url']]\n",
    "dd_kab_kot2=dd_kab_kot2[dd_kab_kot2.provinsi!='Luar Negeri']"
   ]
  },
  {
   "cell_type": "code",
   "execution_count": 31,
   "metadata": {},
   "outputs": [
    {
     "data": {
      "text/html": [
       "<div>\n",
       "<style scoped>\n",
       "    .dataframe tbody tr th:only-of-type {\n",
       "        vertical-align: middle;\n",
       "    }\n",
       "\n",
       "    .dataframe tbody tr th {\n",
       "        vertical-align: top;\n",
       "    }\n",
       "\n",
       "    .dataframe thead th {\n",
       "        text-align: right;\n",
       "    }\n",
       "</style>\n",
       "<table border=\"1\" class=\"dataframe\">\n",
       "  <thead>\n",
       "    <tr style=\"text-align: right;\">\n",
       "      <th></th>\n",
       "      <th>provinsi</th>\n",
       "      <th>kab_kota</th>\n",
       "      <th>url</th>\n",
       "    </tr>\n",
       "  </thead>\n",
       "  <tbody>\n",
       "    <tr>\n",
       "      <th>0</th>\n",
       "      <td>Prov. Jawa Barat</td>\n",
       "      <td>Kab. Bogor</td>\n",
       "      <td>http://dapo.dikdasmen.kemdikbud.go.id/sp/2/020500</td>\n",
       "    </tr>\n",
       "    <tr>\n",
       "      <th>1</th>\n",
       "      <td>Prov. Jawa Barat</td>\n",
       "      <td>Kab. Garut</td>\n",
       "      <td>http://dapo.dikdasmen.kemdikbud.go.id/sp/2/021100</td>\n",
       "    </tr>\n",
       "    <tr>\n",
       "      <th>2</th>\n",
       "      <td>Prov. Jawa Barat</td>\n",
       "      <td>Kab. Bandung</td>\n",
       "      <td>http://dapo.dikdasmen.kemdikbud.go.id/sp/2/020800</td>\n",
       "    </tr>\n",
       "    <tr>\n",
       "      <th>3</th>\n",
       "      <td>Prov. Jawa Barat</td>\n",
       "      <td>Kab. Cianjur</td>\n",
       "      <td>http://dapo.dikdasmen.kemdikbud.go.id/sp/2/020700</td>\n",
       "    </tr>\n",
       "    <tr>\n",
       "      <th>4</th>\n",
       "      <td>Prov. Jawa Barat</td>\n",
       "      <td>Kab. Sukabumi</td>\n",
       "      <td>http://dapo.dikdasmen.kemdikbud.go.id/sp/2/020600</td>\n",
       "    </tr>\n",
       "  </tbody>\n",
       "</table>\n",
       "</div>"
      ],
      "text/plain": [
       "           provinsi       kab_kota  \\\n",
       "0  Prov. Jawa Barat     Kab. Bogor   \n",
       "1  Prov. Jawa Barat     Kab. Garut   \n",
       "2  Prov. Jawa Barat   Kab. Bandung   \n",
       "3  Prov. Jawa Barat   Kab. Cianjur   \n",
       "4  Prov. Jawa Barat  Kab. Sukabumi   \n",
       "\n",
       "                                                 url  \n",
       "0  http://dapo.dikdasmen.kemdikbud.go.id/sp/2/020500  \n",
       "1  http://dapo.dikdasmen.kemdikbud.go.id/sp/2/021100  \n",
       "2  http://dapo.dikdasmen.kemdikbud.go.id/sp/2/020800  \n",
       "3  http://dapo.dikdasmen.kemdikbud.go.id/sp/2/020700  \n",
       "4  http://dapo.dikdasmen.kemdikbud.go.id/sp/2/020600  "
      ]
     },
     "execution_count": 31,
     "metadata": {},
     "output_type": "execute_result"
    }
   ],
   "source": [
    "dd_kab_kot2.head()"
   ]
  },
  {
   "cell_type": "code",
   "execution_count": null,
   "metadata": {},
   "outputs": [],
   "source": []
  },
  {
   "cell_type": "code",
   "execution_count": 33,
   "metadata": {},
   "outputs": [
    {
     "name": "stderr",
     "output_type": "stream",
     "text": [
      "/Users/alamhanz/anaconda/envs/py36/lib/python3.6/site-packages/ipykernel/__main__.py:5: SettingWithCopyWarning: \n",
      "A value is trying to be set on a copy of a slice from a DataFrame.\n",
      "Try using .loc[row_indexer,col_indexer] = value instead\n",
      "\n",
      "See the caveats in the documentation: http://pandas.pydata.org/pandas-docs/stable/indexing.html#indexing-view-versus-copy\n"
     ]
    },
    {
     "name": "stdout",
     "output_type": "stream",
     "text": [
      "http://dapo.dikdasmen.kemdikbud.go.id/sp/2/020500\n",
      "http://dapo.dikdasmen.kemdikbud.go.id/sp/2/021100\n",
      "http://dapo.dikdasmen.kemdikbud.go.id/sp/2/020800\n"
     ]
    }
   ],
   "source": [
    "## kab kot to Kecamatan\n",
    "list_dd=[]\n",
    "for ii in dd_kab_kot2.index.tolist()[:3]:\n",
    "    d1=dd_kab_kot2.iloc[[ii]]\n",
    "    d1['key']=1\n",
    "    d1.columns=['provinsi','kab_kota','url','key']\n",
    "    url1=d1['url'].tolist()[0]\n",
    "    d1=d1[['provinsi','kab_kota','key']]\n",
    "    print(url1)\n",
    "    \n",
    "    d2=get_url_area(url1)\n",
    "    d2['key']=1\n",
    "    dmerg=pd.merge(d1, d2,on='key')\n",
    "    dmerg=dmerg[['provinsi','kab_kota','areas','url_areas']]\n",
    "    dmerg.columns=['provinsi','kab_kota','kecamatan','url']\n",
    "    list_dd.append(dmerg)\n",
    "    \n",
    "dd_kec=pd.concat(list_dd)"
   ]
  },
  {
   "cell_type": "code",
   "execution_count": null,
   "metadata": {},
   "outputs": [],
   "source": []
  },
  {
   "cell_type": "code",
   "execution_count": 52,
   "metadata": {},
   "outputs": [],
   "source": [
    "dd_kabkot_part1=dd_kab_kot2.iloc[0:180]\n",
    "dd_kabkot_part2=dd_kab_kot2.iloc[180:350]\n",
    "dd_kabkot_part3=dd_kab_kot2.iloc[350:]"
   ]
  },
  {
   "cell_type": "code",
   "execution_count": 54,
   "metadata": {},
   "outputs": [],
   "source": [
    "## Divide to 3 parts\n",
    "dd_kabkot_part1.to_csv(RAW_PATH+'url_dikdas_kabkot1.csv',index=False)\n",
    "dd_kabkot_part2.to_csv(RAW_PATH+'url_dikdas_kabkot2.csv',index=False)\n",
    "dd_kabkot_part3.to_csv(RAW_PATH+'url_dikdas_kabkot3.csv',index=False)\n"
   ]
  },
  {
   "cell_type": "code",
   "execution_count": 70,
   "metadata": {},
   "outputs": [],
   "source": [
    "## do the to kecamatan with 3 wrapper\n",
    "\n",
    "## check to kecamatan result\n",
    "dd_kec_part1=pd.read_csv(RAW_PATH+'url_dikdas_kec1.csv')\n",
    "dd_kec_part2=pd.read_csv(RAW_PATH+'url_dikdas_kec2.csv')\n",
    "dd_kec_part3=pd.read_csv(RAW_PATH+'url_dikdas_kec3.csv')\n",
    "dd_kec_part4=pd.read_csv(RAW_PATH+'url_dikdas_kec4.csv') #<- 'Garut'"
   ]
  },
  {
   "cell_type": "code",
   "execution_count": 71,
   "metadata": {},
   "outputs": [
    {
     "data": {
      "text/plain": [
       "{'Kab. Garut'}"
      ]
     },
     "execution_count": 71,
     "metadata": {},
     "output_type": "execute_result"
    }
   ],
   "source": [
    "set(dd_kabkot_part1.kab_kota.unique())-set(dd_kec_part1.kab_kota.unique())"
   ]
  },
  {
   "cell_type": "code",
   "execution_count": 72,
   "metadata": {},
   "outputs": [
    {
     "data": {
      "text/plain": [
       "(170, 170)"
      ]
     },
     "execution_count": 72,
     "metadata": {},
     "output_type": "execute_result"
    }
   ],
   "source": [
    "len(dd_kec_part2.kab_kota.unique()),len(dd_kabkot_part2.kab_kota.unique())"
   ]
  },
  {
   "cell_type": "code",
   "execution_count": 73,
   "metadata": {},
   "outputs": [
    {
     "data": {
      "text/plain": [
       "(164, 164)"
      ]
     },
     "execution_count": 73,
     "metadata": {},
     "output_type": "execute_result"
    }
   ],
   "source": [
    "len(dd_kec_part3.kab_kota.unique()),len(dd_kabkot_part3.kab_kota.unique())"
   ]
  },
  {
   "cell_type": "code",
   "execution_count": 74,
   "metadata": {},
   "outputs": [
    {
     "data": {
      "text/plain": [
       "array(['Kab. Garut'], dtype=object)"
      ]
     },
     "execution_count": 74,
     "metadata": {},
     "output_type": "execute_result"
    }
   ],
   "source": [
    "dd_kec_part4.kab_kota.unique()"
   ]
  },
  {
   "cell_type": "code",
   "execution_count": 79,
   "metadata": {},
   "outputs": [],
   "source": [
    "dd_kec_all=pd.concat([dd_kec_part1,dd_kec_part2,dd_kec_part3,dd_kec_part4]).reset_index()[['provinsi','kab_kota','kecamatan','url']]"
   ]
  },
  {
   "cell_type": "code",
   "execution_count": 80,
   "metadata": {},
   "outputs": [],
   "source": [
    "dd_kec_all.to_csv(RAW_PATH+\"url_dikdas_kecamatan.csv\",index=False)"
   ]
  },
  {
   "cell_type": "code",
   "execution_count": null,
   "metadata": {},
   "outputs": [],
   "source": []
  },
  {
   "cell_type": "markdown",
   "metadata": {},
   "source": [
    "## Kecamatan"
   ]
  },
  {
   "cell_type": "code",
   "execution_count": 81,
   "metadata": {},
   "outputs": [],
   "source": [
    "## Get All School data from kecamatan"
   ]
  },
  {
   "cell_type": "code",
   "execution_count": null,
   "metadata": {},
   "outputs": [],
   "source": []
  },
  {
   "cell_type": "code",
   "execution_count": 84,
   "metadata": {},
   "outputs": [
    {
     "data": {
      "text/plain": [
       "(7046, 4)"
      ]
     },
     "execution_count": 84,
     "metadata": {},
     "output_type": "execute_result"
    }
   ],
   "source": [
    "dd_kec_all.shape"
   ]
  },
  {
   "cell_type": "code",
   "execution_count": 90,
   "metadata": {},
   "outputs": [
    {
     "data": {
      "text/plain": [
       "4.893055555555556"
      ]
     },
     "execution_count": 90,
     "metadata": {},
     "output_type": "execute_result"
    }
   ],
   "source": [
    "((7046/4)*10)/3600"
   ]
  },
  {
   "cell_type": "code",
   "execution_count": 104,
   "metadata": {},
   "outputs": [],
   "source": [
    "all_kab=dd_kec_all.kab_kota.unique()"
   ]
  },
  {
   "cell_type": "code",
   "execution_count": 105,
   "metadata": {},
   "outputs": [
    {
     "data": {
      "text/plain": [
       "[100, 100, 100, 100, 114]"
      ]
     },
     "execution_count": 105,
     "metadata": {},
     "output_type": "execute_result"
    }
   ],
   "source": [
    "all_kabs=[all_kab[0:100],all_kab[100:200],\n",
    "         all_kab[200:300],all_kab[300:400],all_kab[400:]]\n",
    "[len(ss) for ss in all_kabs]"
   ]
  },
  {
   "cell_type": "code",
   "execution_count": 110,
   "metadata": {},
   "outputs": [],
   "source": [
    "i=0\n",
    "for kk in all_kabs:\n",
    "    df_ke=dd_kec_all[dd_kec_all.kab_kota.isin(kk)]\n",
    "    df_ke.to_csv(RAW_KEC_PATH+'all_kec_to_url_'+str(i)+'.csv',\n",
    "                index=False)\n",
    "    i+=1"
   ]
  },
  {
   "cell_type": "code",
   "execution_count": 116,
   "metadata": {},
   "outputs": [
    {
     "data": {
      "text/plain": [
       "[]"
      ]
     },
     "execution_count": 116,
     "metadata": {},
     "output_type": "execute_result"
    }
   ],
   "source": [
    "os.listdir(INTERIM_PATH2)"
   ]
  },
  {
   "cell_type": "code",
   "execution_count": 115,
   "metadata": {},
   "outputs": [
    {
     "data": {
      "text/plain": [
       "'../data/interim/school_url/'"
      ]
     },
     "execution_count": 115,
     "metadata": {},
     "output_type": "execute_result"
    }
   ],
   "source": [
    "INTERIM_PATH2"
   ]
  },
  {
   "cell_type": "code",
   "execution_count": 118,
   "metadata": {},
   "outputs": [],
   "source": [
    "os.mkdir(INTERIM_PATH2+'ys')"
   ]
  },
  {
   "cell_type": "code",
   "execution_count": null,
   "metadata": {},
   "outputs": [],
   "source": []
  },
  {
   "cell_type": "markdown",
   "metadata": {},
   "source": [
    "## Cek URL School File"
   ]
  },
  {
   "cell_type": "code",
   "execution_count": 134,
   "metadata": {},
   "outputs": [],
   "source": [
    "kab_list2=os.listdir(INTERIM_PATH2)\n",
    "kab_list2=[k for k in kab_list2 if '.' not in k]"
   ]
  },
  {
   "cell_type": "code",
   "execution_count": null,
   "metadata": {},
   "outputs": [],
   "source": []
  },
  {
   "cell_type": "code",
   "execution_count": 132,
   "metadata": {},
   "outputs": [
    {
     "name": "stdout",
     "output_type": "stream",
     "text": [
      "../data/interim/school_url/Kab_Asmat/Kec_Safan.csv\n",
      "Empty DataFrame\n",
      "Columns: [provinsi, kab_kota, kecamatan, nama_sekolah, url]\n",
      "Index: []\n",
      "../data/interim/school_url/Kab_Asmat/Kec_Sirets.csv\n",
      "Empty DataFrame\n",
      "Columns: [provinsi, kab_kota, kecamatan, nama_sekolah, url]\n",
      "Index: []\n",
      "../data/interim/school_url/Kab_Bolaang Mongondow/Kec_Dumoga Tenggara.csv\n",
      "Empty DataFrame\n",
      "Columns: [provinsi, kab_kota, kecamatan, nama_sekolah, url]\n",
      "Index: []\n",
      "../data/interim/school_url/Kab_Boven Digoel/Kec_Ki.csv\n",
      "Empty DataFrame\n",
      "Columns: [provinsi, kab_kota, kecamatan, nama_sekolah, url]\n",
      "Index: []\n",
      "../data/interim/school_url/Kab_Fak-Fak/Kec_Furwagi.csv\n",
      "Empty DataFrame\n",
      "Columns: [provinsi, kab_kota, kecamatan, nama_sekolah, url]\n",
      "Index: []\n",
      "../data/interim/school_url/Kab_Manggarai Barat/Kec_Kuwus Barat.csv\n",
      "Empty DataFrame\n",
      "Columns: [provinsi, kab_kota, kecamatan, nama_sekolah, url]\n",
      "Index: []\n",
      "../data/interim/school_url/Kab_Manggarai Barat/Kec_Pacar.csv\n",
      "Empty DataFrame\n",
      "Columns: [provinsi, kab_kota, kecamatan, nama_sekolah, url]\n",
      "Index: []\n",
      "../data/interim/school_url/Kab_Minahasa/Kec_Tompaso Barat.csv\n",
      "Empty DataFrame\n",
      "Columns: [provinsi, kab_kota, kecamatan, nama_sekolah, url]\n",
      "Index: []\n",
      "../data/interim/school_url/Kab_Puncak Jaya/Kec_Mewoluk.csv\n",
      "Empty DataFrame\n",
      "Columns: [provinsi, kab_kota, kecamatan, nama_sekolah, url]\n",
      "Index: []\n",
      "../data/interim/school_url/Kab_Puncak Jaya/Kec_Nioga.csv\n",
      "Empty DataFrame\n",
      "Columns: [provinsi, kab_kota, kecamatan, nama_sekolah, url]\n",
      "Index: []\n",
      "../data/interim/school_url/Kab_Sorong/Kec_Mega.csv\n",
      "Empty DataFrame\n",
      "Columns: [provinsi, kab_kota, kecamatan, nama_sekolah, url]\n",
      "Index: []\n",
      "../data/interim/school_url/Kota Jayapura/Kec_Heram.csv\n",
      "Empty DataFrame\n",
      "Columns: [provinsi, kab_kota, kecamatan, nama_sekolah, url]\n",
      "Index: []\n"
     ]
    }
   ],
   "source": [
    "for kk in kab_list2:\n",
    "    fold=INTERIM_PATH2+kk+'/'\n",
    "    \n",
    "    fn_list=os.listdir(fold)\n",
    "    fn_list=[k for k in fn_list if 'ipynb' not in k]\n",
    "    \n",
    "    for fn in fn_list:\n",
    "        fcsv=fold+fn\n",
    "        try:\n",
    "            dfk=pd.read_csv(fcsv)\n",
    "        \n",
    "            if dfk.shape[0]==0:\n",
    "                print(fcsv)\n",
    "#                 os.remove(fcsv)\n",
    "                print(dfk)\n",
    "            else:\n",
    "                pass\n",
    "        except:\n",
    "            print('ERROR,', fcsv)\n",
    "            os.remove(fcsv)"
   ]
  },
  {
   "cell_type": "code",
   "execution_count": 135,
   "metadata": {},
   "outputs": [],
   "source": [
    "list_dfk=[]\n",
    "for kk in kab_list2:\n",
    "    fold=INTERIM_PATH2+kk+'/'\n",
    "    \n",
    "    fn_list=os.listdir(fold)\n",
    "    fn_list=[k for k in fn_list if 'ipynb' not in k]\n",
    "    \n",
    "    for fn in fn_list:\n",
    "        fcsv=fold+fn\n",
    "        dfk=pd.read_csv(fcsv)\n",
    "        list_dfk.append(dfk)"
   ]
  },
  {
   "cell_type": "code",
   "execution_count": 136,
   "metadata": {},
   "outputs": [],
   "source": [
    "data_url_skul=pd.concat(list_dfk)"
   ]
  },
  {
   "cell_type": "code",
   "execution_count": 137,
   "metadata": {},
   "outputs": [
    {
     "data": {
      "text/plain": [
       "(148981, 5)"
      ]
     },
     "execution_count": 137,
     "metadata": {},
     "output_type": "execute_result"
    }
   ],
   "source": [
    "data_url_skul.shape"
   ]
  },
  {
   "cell_type": "code",
   "execution_count": 147,
   "metadata": {},
   "outputs": [],
   "source": [
    "# data_url_skul[(data_url_skul.provinsi=='Prov. Aceh')&(data_url_skul.kab_kota=='Kab. Aceh Barat')].groupby(['provinsi','kab_kota','kecamatan']).size()\n",
    "# data_url_skul.groupby(['provinsi','kab_kota','kecamatan']).size()"
   ]
  },
  {
   "cell_type": "code",
   "execution_count": 149,
   "metadata": {},
   "outputs": [],
   "source": [
    "data_url_skul_all=pd.merge(dd_kec_all[['provinsi','kab_kota','kecamatan']],data_url_skul,on=['provinsi','kab_kota','kecamatan'],how='left')"
   ]
  },
  {
   "cell_type": "code",
   "execution_count": 151,
   "metadata": {},
   "outputs": [
    {
     "data": {
      "text/html": [
       "<div>\n",
       "<style scoped>\n",
       "    .dataframe tbody tr th:only-of-type {\n",
       "        vertical-align: middle;\n",
       "    }\n",
       "\n",
       "    .dataframe tbody tr th {\n",
       "        vertical-align: top;\n",
       "    }\n",
       "\n",
       "    .dataframe thead th {\n",
       "        text-align: right;\n",
       "    }\n",
       "</style>\n",
       "<table border=\"1\" class=\"dataframe\">\n",
       "  <thead>\n",
       "    <tr style=\"text-align: right;\">\n",
       "      <th></th>\n",
       "      <th>provinsi</th>\n",
       "      <th>kab_kota</th>\n",
       "      <th>kecamatan</th>\n",
       "      <th>nama_sekolah</th>\n",
       "      <th>url</th>\n",
       "    </tr>\n",
       "  </thead>\n",
       "  <tbody>\n",
       "    <tr>\n",
       "      <th>75529</th>\n",
       "      <td>Prov. Nusa Tenggara Timur</td>\n",
       "      <td>Kab. Manggarai Barat</td>\n",
       "      <td>Kec. Pacar</td>\n",
       "      <td>NaN</td>\n",
       "      <td>NaN</td>\n",
       "    </tr>\n",
       "    <tr>\n",
       "      <th>75530</th>\n",
       "      <td>Prov. Nusa Tenggara Timur</td>\n",
       "      <td>Kab. Manggarai Barat</td>\n",
       "      <td>Kec. Kuwus Barat</td>\n",
       "      <td>NaN</td>\n",
       "      <td>NaN</td>\n",
       "    </tr>\n",
       "    <tr>\n",
       "      <th>122853</th>\n",
       "      <td>Prov. Papua</td>\n",
       "      <td>Kota Jayapura</td>\n",
       "      <td>Kec. Heram</td>\n",
       "      <td>NaN</td>\n",
       "      <td>NaN</td>\n",
       "    </tr>\n",
       "    <tr>\n",
       "      <th>123119</th>\n",
       "      <td>Prov. Papua</td>\n",
       "      <td>Kab. Asmat</td>\n",
       "      <td>Kec. Safan</td>\n",
       "      <td>NaN</td>\n",
       "      <td>NaN</td>\n",
       "    </tr>\n",
       "    <tr>\n",
       "      <th>123120</th>\n",
       "      <td>Prov. Papua</td>\n",
       "      <td>Kab. Asmat</td>\n",
       "      <td>Kec. Sirets</td>\n",
       "      <td>NaN</td>\n",
       "      <td>NaN</td>\n",
       "    </tr>\n",
       "    <tr>\n",
       "      <th>123220</th>\n",
       "      <td>Prov. Papua</td>\n",
       "      <td>Kab. Boven Digoel</td>\n",
       "      <td>Kec. Ki</td>\n",
       "      <td>NaN</td>\n",
       "      <td>NaN</td>\n",
       "    </tr>\n",
       "    <tr>\n",
       "      <th>124137</th>\n",
       "      <td>Prov. Papua</td>\n",
       "      <td>Kab. Puncak Jaya</td>\n",
       "      <td>Kec. Mewoluk</td>\n",
       "      <td>NaN</td>\n",
       "      <td>NaN</td>\n",
       "    </tr>\n",
       "    <tr>\n",
       "      <th>124141</th>\n",
       "      <td>Prov. Papua</td>\n",
       "      <td>Kab. Puncak Jaya</td>\n",
       "      <td>Kec. Nioga</td>\n",
       "      <td>NaN</td>\n",
       "      <td>NaN</td>\n",
       "    </tr>\n",
       "    <tr>\n",
       "      <th>129269</th>\n",
       "      <td>Prov. Sulawesi Utara</td>\n",
       "      <td>Kab. Minahasa</td>\n",
       "      <td>Kec. Tompaso Barat</td>\n",
       "      <td>NaN</td>\n",
       "      <td>NaN</td>\n",
       "    </tr>\n",
       "    <tr>\n",
       "      <th>129988</th>\n",
       "      <td>Prov. Sulawesi Utara</td>\n",
       "      <td>Kab. Bolaang Mongondow</td>\n",
       "      <td>Kec. Dumoga Tenggara</td>\n",
       "      <td>NaN</td>\n",
       "      <td>NaN</td>\n",
       "    </tr>\n",
       "    <tr>\n",
       "      <th>144247</th>\n",
       "      <td>Prov. Papua Barat</td>\n",
       "      <td>Kab. Sorong</td>\n",
       "      <td>Kec. Mega</td>\n",
       "      <td>NaN</td>\n",
       "      <td>NaN</td>\n",
       "    </tr>\n",
       "    <tr>\n",
       "      <th>144666</th>\n",
       "      <td>Prov. Papua Barat</td>\n",
       "      <td>Kab. Fak-Fak</td>\n",
       "      <td>Kec. Furwagi</td>\n",
       "      <td>NaN</td>\n",
       "      <td>NaN</td>\n",
       "    </tr>\n",
       "    <tr>\n",
       "      <th>145092</th>\n",
       "      <td>Prov. Papua Barat</td>\n",
       "      <td>Kab. Maybrat</td>\n",
       "      <td>Kec. Ayamaru Selatan</td>\n",
       "      <td>NaN</td>\n",
       "      <td>NaN</td>\n",
       "    </tr>\n",
       "    <tr>\n",
       "      <th>145094</th>\n",
       "      <td>Prov. Papua Barat</td>\n",
       "      <td>Kab. Maybrat</td>\n",
       "      <td>Kec. Aitinyo Barat</td>\n",
       "      <td>NaN</td>\n",
       "      <td>NaN</td>\n",
       "    </tr>\n",
       "  </tbody>\n",
       "</table>\n",
       "</div>"
      ],
      "text/plain": [
       "                         provinsi                kab_kota  \\\n",
       "75529   Prov. Nusa Tenggara Timur    Kab. Manggarai Barat   \n",
       "75530   Prov. Nusa Tenggara Timur    Kab. Manggarai Barat   \n",
       "122853                Prov. Papua           Kota Jayapura   \n",
       "123119                Prov. Papua              Kab. Asmat   \n",
       "123120                Prov. Papua              Kab. Asmat   \n",
       "123220                Prov. Papua       Kab. Boven Digoel   \n",
       "124137                Prov. Papua        Kab. Puncak Jaya   \n",
       "124141                Prov. Papua        Kab. Puncak Jaya   \n",
       "129269       Prov. Sulawesi Utara           Kab. Minahasa   \n",
       "129988       Prov. Sulawesi Utara  Kab. Bolaang Mongondow   \n",
       "144247          Prov. Papua Barat             Kab. Sorong   \n",
       "144666          Prov. Papua Barat            Kab. Fak-Fak   \n",
       "145092          Prov. Papua Barat            Kab. Maybrat   \n",
       "145094          Prov. Papua Barat            Kab. Maybrat   \n",
       "\n",
       "                   kecamatan nama_sekolah  url  \n",
       "75529             Kec. Pacar          NaN  NaN  \n",
       "75530       Kec. Kuwus Barat          NaN  NaN  \n",
       "122853            Kec. Heram          NaN  NaN  \n",
       "123119            Kec. Safan          NaN  NaN  \n",
       "123120           Kec. Sirets          NaN  NaN  \n",
       "123220               Kec. Ki          NaN  NaN  \n",
       "124137          Kec. Mewoluk          NaN  NaN  \n",
       "124141            Kec. Nioga          NaN  NaN  \n",
       "129269    Kec. Tompaso Barat          NaN  NaN  \n",
       "129988  Kec. Dumoga Tenggara          NaN  NaN  \n",
       "144247             Kec. Mega          NaN  NaN  \n",
       "144666          Kec. Furwagi          NaN  NaN  \n",
       "145092  Kec. Ayamaru Selatan          NaN  NaN  \n",
       "145094    Kec. Aitinyo Barat          NaN  NaN  "
      ]
     },
     "execution_count": 151,
     "metadata": {},
     "output_type": "execute_result"
    }
   ],
   "source": [
    "data_url_skul_all[data_url_skul_all.nama_sekolah.isnull()]"
   ]
  },
  {
   "cell_type": "code",
   "execution_count": 152,
   "metadata": {},
   "outputs": [],
   "source": [
    "data_url_skul_all.to_csv(RAW_PATH+\"url_dikdas_sekolah_genap2019.csv\",index=False)"
   ]
  },
  {
   "cell_type": "code",
   "execution_count": null,
   "metadata": {},
   "outputs": [],
   "source": []
  }
 ],
 "metadata": {
  "kernelspec": {
   "display_name": "Python [conda env:py36]",
   "language": "python",
   "name": "conda-env-py36-py"
  },
  "language_info": {
   "codemirror_mode": {
    "name": "ipython",
    "version": 3
   },
   "file_extension": ".py",
   "mimetype": "text/x-python",
   "name": "python",
   "nbconvert_exporter": "python",
   "pygments_lexer": "ipython3",
   "version": "3.6.7"
  }
 },
 "nbformat": 4,
 "nbformat_minor": 2
}
