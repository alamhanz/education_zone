{
 "cells": [
  {
   "cell_type": "markdown",
   "metadata": {},
   "source": [
    "# Scrapping the Longlat from School URL\n",
    "\n",
    "Getting all the details possible from the website [here](http://dapo.dikdasmen.kemdikbud.go.id/sp)\n",
    "\n",
    "# Goal\n",
    "\n",
    "Get The LongLat all school\n",
    "\n",
    "# Plan\n",
    "\n",
    "Checklist what will be done on the notebook :\n",
    "\n",
    "    [ ] Read the html\n",
    "    [ ] Get URL from all url\n",
    "\n",
    "# Summary\n",
    "\n",
    "The result will be a table about school information in Indonesia"
   ]
  },
  {
   "cell_type": "code",
   "execution_count": 1,
   "metadata": {},
   "outputs": [],
   "source": [
    "import pandas as pd\n",
    "import matplotlib.pyplot as plt\n",
    "import requests\n",
    "import lxml.html as lh\n",
    "import pandas as pd\n",
    "from urllib.request import urlopen\n",
    "from selenium import webdriver\n",
    "import time\n",
    "import numpy as np\n",
    "import random\n",
    "import os\n",
    "from bs4 import BeautifulSoup\n",
    "from lxml.etree import tostring"
   ]
  },
  {
   "cell_type": "code",
   "execution_count": 2,
   "metadata": {},
   "outputs": [],
   "source": [
    "RAW_PATH=\"../data/raw/\"\n",
    "RAW_KEC_PATH=RAW_PATH+\"kecamatan_partition_to_get_URL_school/\"\n",
    "INTERIM_PATH=\"../data/interim/\"\n",
    "INTERIM_PATH2=\"../data/interim/school_url_All/\"\n",
    "INTERIM_PATH_TMP=\"../data/interim/tmp/\"\n",
    "\n",
    "PROCESSED_PATH=\"../data/processed/\"\n",
    "MODEL_PATH=\"../models/\"\n",
    "CRM_PATH='../src/chromedriver'"
   ]
  },
  {
   "cell_type": "code",
   "execution_count": null,
   "metadata": {},
   "outputs": [],
   "source": []
  },
  {
   "cell_type": "markdown",
   "metadata": {},
   "source": [
    "## Merge Data All School"
   ]
  },
  {
   "cell_type": "code",
   "execution_count": 3,
   "metadata": {},
   "outputs": [],
   "source": [
    "all_fold_kabkot=[fold for fold in os.listdir(INTERIM_PATH2) if \".\" not in fold]"
   ]
  },
  {
   "cell_type": "code",
   "execution_count": 4,
   "metadata": {},
   "outputs": [],
   "source": [
    "# kabkot=all_fold_kabkot[0]\n",
    "kec_files=[]\n",
    "\n",
    "for kabkot in all_fold_kabkot:\n",
    "    df_all_files=[pd.read_csv(INTERIM_PATH2+kabkot+\"/\"+fkec) for fkec in os.listdir(INTERIM_PATH2+kabkot) if \"ipynb\" not in fkec]\n",
    "    all_url_kec=pd.concat(df_all_files)\n",
    "    all_url_kec=all_url_kec.reset_index()\n",
    "    del all_url_kec['index']\n",
    "    kec_files.append(all_url_kec)"
   ]
  },
  {
   "cell_type": "code",
   "execution_count": 5,
   "metadata": {},
   "outputs": [],
   "source": [
    "school_urls=pd.concat(kec_files)"
   ]
  },
  {
   "cell_type": "code",
   "execution_count": 6,
   "metadata": {},
   "outputs": [
    {
     "data": {
      "text/plain": [
       "(218135, 17)"
      ]
     },
     "execution_count": 6,
     "metadata": {},
     "output_type": "execute_result"
    }
   ],
   "source": [
    "school_urls.shape"
   ]
  },
  {
   "cell_type": "code",
   "execution_count": 7,
   "metadata": {},
   "outputs": [
    {
     "data": {
      "text/html": [
       "<div>\n",
       "<style scoped>\n",
       "    .dataframe tbody tr th:only-of-type {\n",
       "        vertical-align: middle;\n",
       "    }\n",
       "\n",
       "    .dataframe tbody tr th {\n",
       "        vertical-align: top;\n",
       "    }\n",
       "\n",
       "    .dataframe thead th {\n",
       "        text-align: right;\n",
       "    }\n",
       "</style>\n",
       "<table border=\"1\" class=\"dataframe\">\n",
       "  <thead>\n",
       "    <tr style=\"text-align: right;\">\n",
       "      <th></th>\n",
       "      <th>provinsi</th>\n",
       "      <th>kab_kota</th>\n",
       "      <th>kecamatan</th>\n",
       "      <th>nama_sekolah</th>\n",
       "      <th>npsn</th>\n",
       "      <th>bp</th>\n",
       "      <th>status</th>\n",
       "      <th>last_sync</th>\n",
       "      <th>jml_sync</th>\n",
       "      <th>pd</th>\n",
       "      <th>rombel</th>\n",
       "      <th>guru</th>\n",
       "      <th>pegawai</th>\n",
       "      <th>ruang_kelas</th>\n",
       "      <th>ruang_lab</th>\n",
       "      <th>ruang_perpus</th>\n",
       "      <th>url_sekolah</th>\n",
       "    </tr>\n",
       "  </thead>\n",
       "  <tbody>\n",
       "    <tr>\n",
       "      <th>0</th>\n",
       "      <td>Prov. Aceh</td>\n",
       "      <td>Kab. Aceh Barat</td>\n",
       "      <td>Kec. Arongan Lambalek</td>\n",
       "      <td>SD N SEUNEUBOK TEUNGOH</td>\n",
       "      <td>10107900</td>\n",
       "      <td>SD</td>\n",
       "      <td>Negeri</td>\n",
       "      <td>-</td>\n",
       "      <td>0</td>\n",
       "      <td>0.0</td>\n",
       "      <td>0</td>\n",
       "      <td>0</td>\n",
       "      <td>0</td>\n",
       "      <td>6</td>\n",
       "      <td>0</td>\n",
       "      <td>1</td>\n",
       "      <td>http://dapo.dikdasmen.kemdikbud.go.id/sekolah/...</td>\n",
       "    </tr>\n",
       "    <tr>\n",
       "      <th>1</th>\n",
       "      <td>Prov. Aceh</td>\n",
       "      <td>Kab. Aceh Barat</td>\n",
       "      <td>Kec. Arongan Lambalek</td>\n",
       "      <td>SD NEGERI ALUE BATEE</td>\n",
       "      <td>10110676</td>\n",
       "      <td>SD</td>\n",
       "      <td>Negeri</td>\n",
       "      <td>-</td>\n",
       "      <td>0</td>\n",
       "      <td>0.0</td>\n",
       "      <td>0</td>\n",
       "      <td>0</td>\n",
       "      <td>0</td>\n",
       "      <td>6</td>\n",
       "      <td>0</td>\n",
       "      <td>1</td>\n",
       "      <td>http://dapo.dikdasmen.kemdikbud.go.id/sekolah/...</td>\n",
       "    </tr>\n",
       "    <tr>\n",
       "      <th>2</th>\n",
       "      <td>Prov. Aceh</td>\n",
       "      <td>Kab. Aceh Barat</td>\n",
       "      <td>Kec. Arongan Lambalek</td>\n",
       "      <td>SD NEGERI ALUE SUNDAK</td>\n",
       "      <td>10110270</td>\n",
       "      <td>SD</td>\n",
       "      <td>Negeri</td>\n",
       "      <td>-</td>\n",
       "      <td>0</td>\n",
       "      <td>0.0</td>\n",
       "      <td>0</td>\n",
       "      <td>0</td>\n",
       "      <td>0</td>\n",
       "      <td>6</td>\n",
       "      <td>0</td>\n",
       "      <td>1</td>\n",
       "      <td>http://dapo.dikdasmen.kemdikbud.go.id/sekolah/...</td>\n",
       "    </tr>\n",
       "    <tr>\n",
       "      <th>3</th>\n",
       "      <td>Prov. Aceh</td>\n",
       "      <td>Kab. Aceh Barat</td>\n",
       "      <td>Kec. Arongan Lambalek</td>\n",
       "      <td>SD NEGERI ARONGAN WOYLA</td>\n",
       "      <td>10107859</td>\n",
       "      <td>SD</td>\n",
       "      <td>Negeri</td>\n",
       "      <td>-</td>\n",
       "      <td>0</td>\n",
       "      <td>0.0</td>\n",
       "      <td>0</td>\n",
       "      <td>0</td>\n",
       "      <td>0</td>\n",
       "      <td>6</td>\n",
       "      <td>0</td>\n",
       "      <td>0</td>\n",
       "      <td>http://dapo.dikdasmen.kemdikbud.go.id/sekolah/...</td>\n",
       "    </tr>\n",
       "    <tr>\n",
       "      <th>4</th>\n",
       "      <td>Prov. Aceh</td>\n",
       "      <td>Kab. Aceh Barat</td>\n",
       "      <td>Kec. Arongan Lambalek</td>\n",
       "      <td>SD NEGERI COT BULOH</td>\n",
       "      <td>10107863</td>\n",
       "      <td>SD</td>\n",
       "      <td>Negeri</td>\n",
       "      <td>-</td>\n",
       "      <td>0</td>\n",
       "      <td>0.0</td>\n",
       "      <td>0</td>\n",
       "      <td>0</td>\n",
       "      <td>0</td>\n",
       "      <td>6</td>\n",
       "      <td>0</td>\n",
       "      <td>1</td>\n",
       "      <td>http://dapo.dikdasmen.kemdikbud.go.id/sekolah/...</td>\n",
       "    </tr>\n",
       "  </tbody>\n",
       "</table>\n",
       "</div>"
      ],
      "text/plain": [
       "     provinsi         kab_kota              kecamatan  \\\n",
       "0  Prov. Aceh  Kab. Aceh Barat  Kec. Arongan Lambalek   \n",
       "1  Prov. Aceh  Kab. Aceh Barat  Kec. Arongan Lambalek   \n",
       "2  Prov. Aceh  Kab. Aceh Barat  Kec. Arongan Lambalek   \n",
       "3  Prov. Aceh  Kab. Aceh Barat  Kec. Arongan Lambalek   \n",
       "4  Prov. Aceh  Kab. Aceh Barat  Kec. Arongan Lambalek   \n",
       "\n",
       "              nama_sekolah      npsn  bp  status last_sync  jml_sync   pd  \\\n",
       "0   SD N SEUNEUBOK TEUNGOH  10107900  SD  Negeri         -         0  0.0   \n",
       "1     SD NEGERI ALUE BATEE  10110676  SD  Negeri         -         0  0.0   \n",
       "2    SD NEGERI ALUE SUNDAK  10110270  SD  Negeri         -         0  0.0   \n",
       "3  SD NEGERI ARONGAN WOYLA  10107859  SD  Negeri         -         0  0.0   \n",
       "4      SD NEGERI COT BULOH  10107863  SD  Negeri         -         0  0.0   \n",
       "\n",
       "   rombel  guru  pegawai  ruang_kelas  ruang_lab  ruang_perpus  \\\n",
       "0       0     0        0            6          0             1   \n",
       "1       0     0        0            6          0             1   \n",
       "2       0     0        0            6          0             1   \n",
       "3       0     0        0            6          0             0   \n",
       "4       0     0        0            6          0             1   \n",
       "\n",
       "                                         url_sekolah  \n",
       "0  http://dapo.dikdasmen.kemdikbud.go.id/sekolah/...  \n",
       "1  http://dapo.dikdasmen.kemdikbud.go.id/sekolah/...  \n",
       "2  http://dapo.dikdasmen.kemdikbud.go.id/sekolah/...  \n",
       "3  http://dapo.dikdasmen.kemdikbud.go.id/sekolah/...  \n",
       "4  http://dapo.dikdasmen.kemdikbud.go.id/sekolah/...  "
      ]
     },
     "execution_count": 7,
     "metadata": {},
     "output_type": "execute_result"
    }
   ],
   "source": [
    "school_urls.head()"
   ]
  },
  {
   "cell_type": "code",
   "execution_count": 8,
   "metadata": {},
   "outputs": [
    {
     "data": {
      "text/plain": [
       "array(['Prov. Aceh', 'Prov. Sumatera Barat', 'Prov. Nusa Tenggara Timur',\n",
       "       'Prov. Sumatera Utara', 'Prov. Papua', 'Prov. Bali',\n",
       "       'Prov. Kalimantan Selatan', 'Prov. Jawa Barat',\n",
       "       'Prov. Sulawesi Tengah', 'Prov. Kepulauan Bangka Belitung',\n",
       "       'Prov. Jawa Timur', 'Prov. Jawa Tengah', 'Prov. Sulawesi Selatan',\n",
       "       'Prov. D.I. Yogyakarta', 'Prov. Sumatera Selatan',\n",
       "       'Prov. Kalimantan Tengah', 'Prov. Jambi', 'Prov. Riau',\n",
       "       'Prov. Kalimantan Barat', 'Prov. Bengkulu',\n",
       "       'Prov. Kalimantan Timur', 'Prov. Nusa Tenggara Barat',\n",
       "       'Prov. Kepulauan Riau', 'Prov. Gorontalo', 'Prov. Sulawesi Utara',\n",
       "       'Prov. Sulawesi Tenggara', 'Prov. Kalimantan Utara',\n",
       "       'Prov. Maluku', 'Prov. Papua Barat', 'Prov. Maluku Utara',\n",
       "       'Prov. D.K.I. Jakarta', 'Prov. Lampung', 'Prov. Banten',\n",
       "       'Prov. Sulawesi Barat'], dtype=object)"
      ]
     },
     "execution_count": 8,
     "metadata": {},
     "output_type": "execute_result"
    }
   ],
   "source": [
    "school_urls.provinsi.unique()"
   ]
  },
  {
   "cell_type": "code",
   "execution_count": 9,
   "metadata": {},
   "outputs": [
    {
     "data": {
      "text/plain": [
       "provinsi\n",
       "Prov. Aceh                          5463\n",
       "Prov. Bali                          3216\n",
       "Prov. Banten                        7506\n",
       "Prov. Bengkulu                      2071\n",
       "Prov. D.I. Yogyakarta               2751\n",
       "Prov. D.K.I. Jakarta                4631\n",
       "Prov. Gorontalo                     1413\n",
       "Prov. Jambi                         3547\n",
       "Prov. Jawa Barat                   30047\n",
       "Prov. Jawa Tengah                  24815\n",
       "Prov. Jawa Timur                   27897\n",
       "Prov. Kalimantan Barat              6401\n",
       "Prov. Kalimantan Selatan            3753\n",
       "Prov. Kalimantan Tengah             3884\n",
       "Prov. Kalimantan Timur              3029\n",
       "Prov. Kalimantan Utara               745\n",
       "Prov. Kepulauan Bangka Belitung     1168\n",
       "Prov. Kepulauan Riau                1569\n",
       "Prov. Lampung                       7094\n",
       "Prov. Maluku                        2847\n",
       "Prov. Maluku Utara                  2166\n",
       "Prov. Nusa Tenggara Barat           4852\n",
       "Prov. Nusa Tenggara Timur           7732\n",
       "Prov. Papua                         3616\n",
       "Prov. Papua Barat                   1547\n",
       "Prov. Riau                          5655\n",
       "Prov. Sulawesi Barat                1952\n",
       "Prov. Sulawesi Selatan              8929\n",
       "Prov. Sulawesi Tengah               4106\n",
       "Prov. Sulawesi Tenggara             3599\n",
       "Prov. Sulawesi Utara                3399\n",
       "Prov. Sumatera Barat                5559\n",
       "Prov. Sumatera Selatan              6964\n",
       "Prov. Sumatera Utara               14212\n",
       "dtype: int64"
      ]
     },
     "execution_count": 9,
     "metadata": {},
     "output_type": "execute_result"
    }
   ],
   "source": [
    "school_urls.groupby('provinsi').size()"
   ]
  },
  {
   "cell_type": "code",
   "execution_count": 10,
   "metadata": {},
   "outputs": [
    {
     "data": {
      "text/plain": [
       "kecamatan\n",
       "Kec. Arongan Lambalek    16\n",
       "Kec. Bubon                8\n",
       "Kec. Johan Pahlawan      52\n",
       "Kec. Kaway XVI           27\n",
       "Kec. Meureubo            33\n",
       "Kec. Pantee Ceureumen    19\n",
       "Kec. Panton Reu          11\n",
       "Kec. Samatiga            20\n",
       "Kec. Sungai Mas          11\n",
       "Kec. Woyla               20\n",
       "Kec. Woyla Barat         14\n",
       "Kec. Woyla Timur         14\n",
       "dtype: int64"
      ]
     },
     "execution_count": 10,
     "metadata": {},
     "output_type": "execute_result"
    }
   ],
   "source": [
    "school_urls[(school_urls['provinsi']=='Prov. Aceh')&(school_urls['kab_kota']=='Kab. Aceh Barat')].groupby('kecamatan').size()"
   ]
  },
  {
   "cell_type": "code",
   "execution_count": null,
   "metadata": {},
   "outputs": [],
   "source": []
  },
  {
   "cell_type": "markdown",
   "metadata": {},
   "source": [
    "## URL"
   ]
  },
  {
   "cell_type": "code",
   "execution_count": 11,
   "metadata": {},
   "outputs": [],
   "source": [
    "MAIN_URL=\"http://dapo.dikdasmen.kemdikbud.go.id/sp\""
   ]
  },
  {
   "cell_type": "code",
   "execution_count": 12,
   "metadata": {},
   "outputs": [
    {
     "data": {
      "text/plain": [
       "0    http://dapo.dikdasmen.kemdikbud.go.id/sekolah/...\n",
       "1    http://dapo.dikdasmen.kemdikbud.go.id/sekolah/...\n",
       "2    http://dapo.dikdasmen.kemdikbud.go.id/sekolah/...\n",
       "3    http://dapo.dikdasmen.kemdikbud.go.id/sekolah/...\n",
       "4    http://dapo.dikdasmen.kemdikbud.go.id/sekolah/...\n",
       "Name: url_sekolah, dtype: object"
      ]
     },
     "execution_count": 12,
     "metadata": {},
     "output_type": "execute_result"
    }
   ],
   "source": [
    "school_urls.url_sekolah.head()"
   ]
  },
  {
   "cell_type": "code",
   "execution_count": null,
   "metadata": {},
   "outputs": [],
   "source": []
  },
  {
   "cell_type": "markdown",
   "metadata": {},
   "source": [
    "## Get The Details"
   ]
  },
  {
   "cell_type": "code",
   "execution_count": 13,
   "metadata": {},
   "outputs": [],
   "source": [
    "# https://towardsdatascience.com/web-scraping-html-tables-with-python-c9baba21059\n",
    "def get_url_area(URL):\n",
    "    xr1=random.randint(5,10)\n",
    "    xr2=random.randint(3,xr1)\n",
    "    browser = webdriver.Chrome(CRM_PATH)\n",
    "    time.sleep(xr2)\n",
    "    browser.get(URL)\n",
    "    xr1=random.randint(7,(xr1+xr2))\n",
    "    xr2=random.randint(4,xr1)\n",
    "    time.sleep(xr1+xr2)\n",
    "    html_source = browser.page_source\n",
    "    browser.close()\n",
    "\n",
    "    #Store the contents of the website under doc\n",
    "    doc = lh.fromstring(html_source)\n",
    "    #Parse data that are stored between <tr>..</tr> of HTML\n",
    "    area = [s.text_content() for s in doc.xpath(\"//tr//a\")]\n",
    "    url_area = [(MAIN_URL[:-3]+s).strip() for s in doc.xpath(\"//tr//a/@href\")]\n",
    "\n",
    "    data=pd.DataFrame({'areas':area,'url_areas':url_area})\n",
    "    return data"
   ]
  },
  {
   "cell_type": "code",
   "execution_count": 14,
   "metadata": {},
   "outputs": [],
   "source": [
    "def get_long_lat(main_school_url):\n",
    "    try :\n",
    "        req = requests.get(main_school_url)\n",
    "        html_source=req.text\n",
    "        doc = lh.fromstring(html_source)\n",
    "        ss=doc.xpath(\"//div[@class='tab-content']\")\n",
    "        # ss2=doc.xpath('//*[@id=\"rekapitulasi\"]/div[3]/div[2]/table/tbody/tr[1]/td[3]')\n",
    "        # tostring(ss2[0])\n",
    "        ss0=ss[0]\n",
    "        ss0_content=ss0.text_content()\n",
    "        res=','.join([k.strip() for k in ss0_content.split('\\n') if ('lintang' in k.lower())|('bujur' in k.lower())])\n",
    "    except:\n",
    "        print('miss : '+ main_school_url)\n",
    "        res=np.nan\n",
    "    return res"
   ]
  },
  {
   "cell_type": "code",
   "execution_count": 15,
   "metadata": {},
   "outputs": [],
   "source": [
    "main_school_url=school_urls.url_sekolah.tolist()[12]"
   ]
  },
  {
   "cell_type": "code",
   "execution_count": 16,
   "metadata": {},
   "outputs": [
    {
     "name": "stdout",
     "output_type": "stream",
     "text": [
      "0.325314998626709\n"
     ]
    }
   ],
   "source": [
    "L0=time.time()\n",
    "get_long_lat(main_school_url)\n",
    "print(time.time()-L0)"
   ]
  },
  {
   "cell_type": "code",
   "execution_count": 17,
   "metadata": {},
   "outputs": [
    {
     "data": {
      "text/plain": [
       "'Lintang : 4.3630000,Bujur : 95.9229000'"
      ]
     },
     "execution_count": 17,
     "metadata": {},
     "output_type": "execute_result"
    }
   ],
   "source": [
    "get_long_lat(main_school_url)"
   ]
  },
  {
   "cell_type": "code",
   "execution_count": null,
   "metadata": {},
   "outputs": [],
   "source": []
  },
  {
   "cell_type": "markdown",
   "metadata": {},
   "source": [
    "## Start The Batch"
   ]
  },
  {
   "cell_type": "code",
   "execution_count": 18,
   "metadata": {},
   "outputs": [
    {
     "data": {
      "text/plain": [
       "(218135, 17)"
      ]
     },
     "execution_count": 18,
     "metadata": {},
     "output_type": "execute_result"
    }
   ],
   "source": [
    "school_urls.shape"
   ]
  },
  {
   "cell_type": "code",
   "execution_count": 19,
   "metadata": {},
   "outputs": [
    {
     "data": {
      "text/plain": [
       "109.0675"
      ]
     },
     "execution_count": 19,
     "metadata": {},
     "output_type": "execute_result"
    }
   ],
   "source": [
    "218135/2000"
   ]
  },
  {
   "cell_type": "code",
   "execution_count": 20,
   "metadata": {},
   "outputs": [],
   "source": [
    "school_urls_p=school_urls.reset_index()"
   ]
  },
  {
   "cell_type": "code",
   "execution_count": 21,
   "metadata": {},
   "outputs": [],
   "source": [
    "list_school_urls=[]\n",
    "for i in range(110):\n",
    "    list_school_urls.append(school_urls_p[0+(i*2000):2000+(i*2000)])"
   ]
  },
  {
   "cell_type": "code",
   "execution_count": 22,
   "metadata": {},
   "outputs": [],
   "source": [
    "# ki=4\n",
    "# loopin=[i+(10*ki) for i in range(60)]\n",
    "# loopin"
   ]
  },
  {
   "cell_type": "code",
   "execution_count": 23,
   "metadata": {},
   "outputs": [],
   "source": [
    "# ## Run some of it\n",
    "# for i in loopin:\n",
    "#     L0=time.time()\n",
    "#     df=list_school_urls[i]\n",
    "#     df['coordinate']=df.url_sekolah.apply(lambda x : get_long_lat(x))\n",
    "#     df.to_csv(INTERIM_PATH_TMP+'data_all_school_coord_'+str(i)+'.csv',index=False)\n",
    "#     print(str(i)+\" is done in \"+str(time.time()-L0))"
   ]
  },
  {
   "cell_type": "code",
   "execution_count": 24,
   "metadata": {},
   "outputs": [
    {
     "data": {
      "text/plain": [
       "(218135, 17)"
      ]
     },
     "execution_count": 24,
     "metadata": {},
     "output_type": "execute_result"
    }
   ],
   "source": [
    "school_urls.shape"
   ]
  },
  {
   "cell_type": "code",
   "execution_count": 27,
   "metadata": {},
   "outputs": [],
   "source": [
    "#Merge LongLat\n",
    "df_latlong_list_done=[pd.read_csv(INTERIM_PATH_TMP+f) for f in os.listdir(INTERIM_PATH_TMP) if 'ipynb' not in f]"
   ]
  },
  {
   "cell_type": "code",
   "execution_count": 28,
   "metadata": {},
   "outputs": [],
   "source": [
    "df_latlong_done=pd.concat(df_latlong_list_done)"
   ]
  },
  {
   "cell_type": "code",
   "execution_count": 33,
   "metadata": {},
   "outputs": [],
   "source": [
    "del df_latlong_done['index']"
   ]
  },
  {
   "cell_type": "code",
   "execution_count": 35,
   "metadata": {},
   "outputs": [
    {
     "data": {
      "text/html": [
       "<div>\n",
       "<style scoped>\n",
       "    .dataframe tbody tr th:only-of-type {\n",
       "        vertical-align: middle;\n",
       "    }\n",
       "\n",
       "    .dataframe tbody tr th {\n",
       "        vertical-align: top;\n",
       "    }\n",
       "\n",
       "    .dataframe thead th {\n",
       "        text-align: right;\n",
       "    }\n",
       "</style>\n",
       "<table border=\"1\" class=\"dataframe\">\n",
       "  <thead>\n",
       "    <tr style=\"text-align: right;\">\n",
       "      <th></th>\n",
       "      <th>provinsi</th>\n",
       "      <th>kab_kota</th>\n",
       "      <th>kecamatan</th>\n",
       "      <th>nama_sekolah</th>\n",
       "      <th>npsn</th>\n",
       "      <th>bp</th>\n",
       "      <th>status</th>\n",
       "      <th>last_sync</th>\n",
       "      <th>jml_sync</th>\n",
       "      <th>pd</th>\n",
       "      <th>rombel</th>\n",
       "      <th>guru</th>\n",
       "      <th>pegawai</th>\n",
       "      <th>ruang_kelas</th>\n",
       "      <th>ruang_lab</th>\n",
       "      <th>ruang_perpus</th>\n",
       "      <th>url_sekolah</th>\n",
       "      <th>coordinate</th>\n",
       "    </tr>\n",
       "  </thead>\n",
       "  <tbody>\n",
       "    <tr>\n",
       "      <th>0</th>\n",
       "      <td>Prov. Aceh</td>\n",
       "      <td>Kab. Aceh Barat</td>\n",
       "      <td>Kec. Arongan Lambalek</td>\n",
       "      <td>SD N SEUNEUBOK TEUNGOH</td>\n",
       "      <td>10107900</td>\n",
       "      <td>SD</td>\n",
       "      <td>Negeri</td>\n",
       "      <td>-</td>\n",
       "      <td>0</td>\n",
       "      <td>0.0</td>\n",
       "      <td>0</td>\n",
       "      <td>0</td>\n",
       "      <td>0</td>\n",
       "      <td>6</td>\n",
       "      <td>0</td>\n",
       "      <td>1</td>\n",
       "      <td>http://dapo.dikdasmen.kemdikbud.go.id/sekolah/...</td>\n",
       "      <td>Lintang : 4.3594000,Bujur : 95.9281000</td>\n",
       "    </tr>\n",
       "    <tr>\n",
       "      <th>1</th>\n",
       "      <td>Prov. Aceh</td>\n",
       "      <td>Kab. Aceh Barat</td>\n",
       "      <td>Kec. Arongan Lambalek</td>\n",
       "      <td>SD NEGERI ALUE BATEE</td>\n",
       "      <td>10110676</td>\n",
       "      <td>SD</td>\n",
       "      <td>Negeri</td>\n",
       "      <td>-</td>\n",
       "      <td>0</td>\n",
       "      <td>0.0</td>\n",
       "      <td>0</td>\n",
       "      <td>0</td>\n",
       "      <td>0</td>\n",
       "      <td>6</td>\n",
       "      <td>0</td>\n",
       "      <td>1</td>\n",
       "      <td>http://dapo.dikdasmen.kemdikbud.go.id/sekolah/...</td>\n",
       "      <td>Lintang : 4.3453000,Bujur : 95.9736000</td>\n",
       "    </tr>\n",
       "    <tr>\n",
       "      <th>2</th>\n",
       "      <td>Prov. Aceh</td>\n",
       "      <td>Kab. Aceh Barat</td>\n",
       "      <td>Kec. Arongan Lambalek</td>\n",
       "      <td>SD NEGERI ALUE SUNDAK</td>\n",
       "      <td>10110270</td>\n",
       "      <td>SD</td>\n",
       "      <td>Negeri</td>\n",
       "      <td>-</td>\n",
       "      <td>0</td>\n",
       "      <td>0.0</td>\n",
       "      <td>0</td>\n",
       "      <td>0</td>\n",
       "      <td>0</td>\n",
       "      <td>6</td>\n",
       "      <td>0</td>\n",
       "      <td>1</td>\n",
       "      <td>http://dapo.dikdasmen.kemdikbud.go.id/sekolah/...</td>\n",
       "      <td>Lintang : 4.3257000,Bujur : 95.9761000</td>\n",
       "    </tr>\n",
       "    <tr>\n",
       "      <th>3</th>\n",
       "      <td>Prov. Aceh</td>\n",
       "      <td>Kab. Aceh Barat</td>\n",
       "      <td>Kec. Arongan Lambalek</td>\n",
       "      <td>SD NEGERI ARONGAN WOYLA</td>\n",
       "      <td>10107859</td>\n",
       "      <td>SD</td>\n",
       "      <td>Negeri</td>\n",
       "      <td>-</td>\n",
       "      <td>0</td>\n",
       "      <td>0.0</td>\n",
       "      <td>0</td>\n",
       "      <td>0</td>\n",
       "      <td>0</td>\n",
       "      <td>6</td>\n",
       "      <td>0</td>\n",
       "      <td>0</td>\n",
       "      <td>http://dapo.dikdasmen.kemdikbud.go.id/sekolah/...</td>\n",
       "      <td>Lintang : 4.2994000,Bujur : 95.9536000</td>\n",
       "    </tr>\n",
       "    <tr>\n",
       "      <th>4</th>\n",
       "      <td>Prov. Aceh</td>\n",
       "      <td>Kab. Aceh Barat</td>\n",
       "      <td>Kec. Arongan Lambalek</td>\n",
       "      <td>SD NEGERI COT BULOH</td>\n",
       "      <td>10107863</td>\n",
       "      <td>SD</td>\n",
       "      <td>Negeri</td>\n",
       "      <td>-</td>\n",
       "      <td>0</td>\n",
       "      <td>0.0</td>\n",
       "      <td>0</td>\n",
       "      <td>0</td>\n",
       "      <td>0</td>\n",
       "      <td>6</td>\n",
       "      <td>0</td>\n",
       "      <td>1</td>\n",
       "      <td>http://dapo.dikdasmen.kemdikbud.go.id/sekolah/...</td>\n",
       "      <td>Lintang : 4.3252000,Bujur : 95.9576000</td>\n",
       "    </tr>\n",
       "  </tbody>\n",
       "</table>\n",
       "</div>"
      ],
      "text/plain": [
       "     provinsi         kab_kota              kecamatan  \\\n",
       "0  Prov. Aceh  Kab. Aceh Barat  Kec. Arongan Lambalek   \n",
       "1  Prov. Aceh  Kab. Aceh Barat  Kec. Arongan Lambalek   \n",
       "2  Prov. Aceh  Kab. Aceh Barat  Kec. Arongan Lambalek   \n",
       "3  Prov. Aceh  Kab. Aceh Barat  Kec. Arongan Lambalek   \n",
       "4  Prov. Aceh  Kab. Aceh Barat  Kec. Arongan Lambalek   \n",
       "\n",
       "              nama_sekolah      npsn  bp  status last_sync  jml_sync   pd  \\\n",
       "0   SD N SEUNEUBOK TEUNGOH  10107900  SD  Negeri         -         0  0.0   \n",
       "1     SD NEGERI ALUE BATEE  10110676  SD  Negeri         -         0  0.0   \n",
       "2    SD NEGERI ALUE SUNDAK  10110270  SD  Negeri         -         0  0.0   \n",
       "3  SD NEGERI ARONGAN WOYLA  10107859  SD  Negeri         -         0  0.0   \n",
       "4      SD NEGERI COT BULOH  10107863  SD  Negeri         -         0  0.0   \n",
       "\n",
       "   rombel  guru  pegawai  ruang_kelas  ruang_lab  ruang_perpus  \\\n",
       "0       0     0        0            6          0             1   \n",
       "1       0     0        0            6          0             1   \n",
       "2       0     0        0            6          0             1   \n",
       "3       0     0        0            6          0             0   \n",
       "4       0     0        0            6          0             1   \n",
       "\n",
       "                                         url_sekolah  \\\n",
       "0  http://dapo.dikdasmen.kemdikbud.go.id/sekolah/...   \n",
       "1  http://dapo.dikdasmen.kemdikbud.go.id/sekolah/...   \n",
       "2  http://dapo.dikdasmen.kemdikbud.go.id/sekolah/...   \n",
       "3  http://dapo.dikdasmen.kemdikbud.go.id/sekolah/...   \n",
       "4  http://dapo.dikdasmen.kemdikbud.go.id/sekolah/...   \n",
       "\n",
       "                               coordinate  \n",
       "0  Lintang : 4.3594000,Bujur : 95.9281000  \n",
       "1  Lintang : 4.3453000,Bujur : 95.9736000  \n",
       "2  Lintang : 4.3257000,Bujur : 95.9761000  \n",
       "3  Lintang : 4.2994000,Bujur : 95.9536000  \n",
       "4  Lintang : 4.3252000,Bujur : 95.9576000  "
      ]
     },
     "execution_count": 35,
     "metadata": {},
     "output_type": "execute_result"
    }
   ],
   "source": [
    "df_latlong_done.head()"
   ]
  },
  {
   "cell_type": "code",
   "execution_count": 40,
   "metadata": {},
   "outputs": [
    {
     "data": {
      "text/plain": [
       "118000"
      ]
     },
     "execution_count": 40,
     "metadata": {},
     "output_type": "execute_result"
    }
   ],
   "source": [
    "len(df_latlong_done.drop_duplicates())"
   ]
  },
  {
   "cell_type": "code",
   "execution_count": 43,
   "metadata": {},
   "outputs": [
    {
     "data": {
      "text/plain": [
       "117998"
      ]
     },
     "execution_count": 43,
     "metadata": {},
     "output_type": "execute_result"
    }
   ],
   "source": [
    "len(df_latlong_done.url_sekolah.unique())"
   ]
  },
  {
   "cell_type": "code",
   "execution_count": 44,
   "metadata": {},
   "outputs": [
    {
     "data": {
      "text/plain": [
       "url_sekolah\n",
       "http://dapo.dikdasmen.kemdikbud.go.id/sekolah/F95D81335D16825B938B    2\n",
       "http://dapo.dikdasmen.kemdikbud.go.id/sekolah/8C5BD97EEBDAA1363CF4    2\n",
       "http://dapo.dikdasmen.kemdikbud.go.id/sekolah/FFFFD91F83C690E65364    1\n",
       "dtype: int64"
      ]
     },
     "execution_count": 44,
     "metadata": {},
     "output_type": "execute_result"
    }
   ],
   "source": [
    "df_latlong_done.groupby('url_sekolah').size().sort_values(ascending=False)[:3]"
   ]
  },
  {
   "cell_type": "code",
   "execution_count": 47,
   "metadata": {},
   "outputs": [],
   "source": [
    "# df_latlong_done[df_latlong_done.url_sekolah=='http://dapo.dikdasmen.kemdikbud.go.id/sekolah/8C5BD97EEBDAA1363CF4']"
   ]
  },
  {
   "cell_type": "code",
   "execution_count": 56,
   "metadata": {},
   "outputs": [],
   "source": [
    "df_latlong_done.to_csv(INTERIM_PATH+'20190901_sekolah_genap2019_data_latlong_all_part_one.csv')"
   ]
  },
  {
   "cell_type": "code",
   "execution_count": 57,
   "metadata": {},
   "outputs": [],
   "source": [
    "## Not Yet URL\n",
    "\n",
    "school_urls_p2=school_urls_p[~(school_urls_p.url_sekolah.isin(df_latlong_done.url_sekolah.unique()))]"
   ]
  },
  {
   "cell_type": "code",
   "execution_count": 58,
   "metadata": {},
   "outputs": [],
   "source": [
    "## Divide the rest into 3\n",
    "\n",
    "school_urls_p2[:30000].to_csv(INTERIM_PATH_TMP+'20190901_sekolah_genap2019_data_latlong_all_notyet_1.csv')\n",
    "school_urls_p2[30000:60000].to_csv(INTERIM_PATH_TMP+'20190901_sekolah_genap2019_data_latlong_all_notyet_2.csv')\n",
    "school_urls_p2[60000:].to_csv(INTERIM_PATH_TMP+'20190901_sekolah_genap2019_data_latlong_all_notyet_3.csv')"
   ]
  },
  {
   "cell_type": "code",
   "execution_count": 59,
   "metadata": {},
   "outputs": [
    {
     "data": {
      "text/plain": [
       "40135"
      ]
     },
     "execution_count": 59,
     "metadata": {},
     "output_type": "execute_result"
    }
   ],
   "source": [
    "len(school_urls_p2[60000:])"
   ]
  },
  {
   "cell_type": "code",
   "execution_count": null,
   "metadata": {},
   "outputs": [],
   "source": []
  },
  {
   "cell_type": "markdown",
   "metadata": {},
   "source": [
    "## Merge The Rest"
   ]
  },
  {
   "cell_type": "code",
   "execution_count": 57,
   "metadata": {},
   "outputs": [],
   "source": [
    "df_latlong=pd.concat(df_latlong_list)"
   ]
  },
  {
   "cell_type": "code",
   "execution_count": 59,
   "metadata": {},
   "outputs": [
    {
     "data": {
      "text/plain": [
       "(148981, 7)"
      ]
     },
     "execution_count": 59,
     "metadata": {},
     "output_type": "execute_result"
    }
   ],
   "source": [
    "df_latlong.shape"
   ]
  },
  {
   "cell_type": "code",
   "execution_count": 79,
   "metadata": {},
   "outputs": [],
   "source": [
    "df_latlong.coordinate=df_latlong.coordinate.astype(str)"
   ]
  },
  {
   "cell_type": "code",
   "execution_count": 106,
   "metadata": {},
   "outputs": [],
   "source": [
    "def extract_lintang(x):\n",
    "    try:\n",
    "        content=x.split(',')\n",
    "        if len(content)>2:\n",
    "            content0=content[-2:]\n",
    "        else:\n",
    "            content0=content.copy()\n",
    "            \n",
    "        lin=float(content0[0].split(':')[1])\n",
    "    except:\n",
    "        lin=np.nan\n",
    "    return lin\n",
    "\n",
    "def extract_bujur(x):\n",
    "    try:\n",
    "        content=x.split(',')\n",
    "        if len(content)>2:\n",
    "            content0=content[-2:]\n",
    "        else:\n",
    "            content0=content.copy()\n",
    "            \n",
    "        buj=float(content0[1].split(':')[1]) \n",
    "    except:\n",
    "        buj=np.nan\n",
    "    return buj"
   ]
  },
  {
   "cell_type": "code",
   "execution_count": 107,
   "metadata": {},
   "outputs": [],
   "source": [
    "df_latlong['lintang']=df_latlong.coordinate.apply(lambda x: extract_lintang(x)).astype(float)\n",
    "df_latlong['bujur']=df_latlong.coordinate.apply(lambda x: extract_bujur(x)).astype(float)"
   ]
  },
  {
   "cell_type": "code",
   "execution_count": 115,
   "metadata": {},
   "outputs": [],
   "source": [
    "# df_latlong[df_latlong.lintang.isnull()]\n",
    "# ss=[1,2,3]\n",
    "# ss[-2:]"
   ]
  },
  {
   "cell_type": "code",
   "execution_count": 116,
   "metadata": {},
   "outputs": [],
   "source": [
    "# SD KRISTEN II HUTUMURI, http://dapo.dikdasmen.kemdikbud.go.id/sekolah/3968204DB247DDF93644"
   ]
  },
  {
   "cell_type": "code",
   "execution_count": null,
   "metadata": {},
   "outputs": [],
   "source": []
  },
  {
   "cell_type": "code",
   "execution_count": 118,
   "metadata": {},
   "outputs": [],
   "source": [
    "df_latlong.to_csv(INTERIM_PATH+\"20190629_sekolah_genap2019_data_latlong_SD.csv\",index=False)"
   ]
  },
  {
   "cell_type": "code",
   "execution_count": null,
   "metadata": {},
   "outputs": [],
   "source": []
  }
 ],
 "metadata": {
  "kernelspec": {
   "display_name": "Python 3",
   "language": "python",
   "name": "python3"
  },
  "language_info": {
   "codemirror_mode": {
    "name": "ipython",
    "version": 3
   },
   "file_extension": ".py",
   "mimetype": "text/x-python",
   "name": "python",
   "nbconvert_exporter": "python",
   "pygments_lexer": "ipython3",
   "version": "3.6.7"
  }
 },
 "nbformat": 4,
 "nbformat_minor": 2
}
