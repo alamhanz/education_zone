{
 "cells": [
  {
   "cell_type": "markdown",
   "metadata": {},
   "source": [
    "# Scrapping the Longlat from School URL\n",
    "\n",
    "Getting all the details possible from the website [here](http://dapo.dikdasmen.kemdikbud.go.id/sp)\n",
    "\n",
    "# Goal\n",
    "\n",
    "Get The LongLat all school\n",
    "\n",
    "# Plan\n",
    "\n",
    "Checklist what will be done on the notebook :\n",
    "\n",
    "    [ ] Read the html\n",
    "    [ ] Get URL from all Kabupaten Kota\n",
    "    [ ] Get URL from all Kecamatan\n",
    "\n",
    "# Summary\n",
    "\n",
    "The result will be a table about school information in Indonesia"
   ]
  },
  {
   "cell_type": "code",
   "execution_count": 32,
   "metadata": {},
   "outputs": [],
   "source": [
    "import pandas as pd\n",
    "import matplotlib.pyplot as plt\n",
    "import requests\n",
    "import lxml.html as lh\n",
    "import pandas as pd\n",
    "from urllib.request import urlopen\n",
    "from selenium import webdriver\n",
    "import time\n",
    "import numpy as np\n",
    "import random\n",
    "import os\n",
    "from bs4 import BeautifulSoup\n",
    "from lxml.etree import tostring"
   ]
  },
  {
   "cell_type": "code",
   "execution_count": 2,
   "metadata": {},
   "outputs": [],
   "source": [
    "RAW_PATH=\"../data/raw/\"\n",
    "RAW_KEC_PATH=RAW_PATH+\"kecamatan_partition_to_get_URL_school/\"\n",
    "INTERIM_PATH=\"../data/interim/\"\n",
    "INTERIM_PATH2=\"../data/interim/school_url/\"\n",
    "INTERIM_PATH_TMP=\"../data/interim/tmp/\"\n",
    "\n",
    "PROCESSED_PATH=\"../data/processed/\"\n",
    "MODEL_PATH=\"../models/\"\n",
    "CRM_PATH='../src/chromedriver'"
   ]
  },
  {
   "cell_type": "code",
   "execution_count": null,
   "metadata": {},
   "outputs": [],
   "source": []
  },
  {
   "cell_type": "markdown",
   "metadata": {},
   "source": [
    "## Merge Data All School"
   ]
  },
  {
   "cell_type": "code",
   "execution_count": 3,
   "metadata": {},
   "outputs": [],
   "source": [
    "all_fold_kabkot=[fold for fold in os.listdir(INTERIM_PATH2) if \".\" not in fold]"
   ]
  },
  {
   "cell_type": "code",
   "execution_count": 4,
   "metadata": {},
   "outputs": [],
   "source": [
    "# kabkot=all_fold_kabkot[0]\n",
    "kec_files=[]\n",
    "\n",
    "for kabkot in all_fold_kabkot:\n",
    "    df_all_files=[pd.read_csv(INTERIM_PATH2+kabkot+\"/\"+fkec) for fkec in os.listdir(INTERIM_PATH2+kabkot) if \"ipynb\" not in fkec]\n",
    "    all_url_kec=pd.concat(df_all_files)\n",
    "    all_url_kec=all_url_kec.reset_index()\n",
    "    del all_url_kec['index']\n",
    "    kec_files.append(all_url_kec)"
   ]
  },
  {
   "cell_type": "code",
   "execution_count": 5,
   "metadata": {},
   "outputs": [],
   "source": [
    "school_urls=pd.concat(kec_files)"
   ]
  },
  {
   "cell_type": "code",
   "execution_count": 6,
   "metadata": {},
   "outputs": [
    {
     "data": {
      "text/plain": [
       "(148981, 5)"
      ]
     },
     "execution_count": 6,
     "metadata": {},
     "output_type": "execute_result"
    }
   ],
   "source": [
    "school_urls.shape"
   ]
  },
  {
   "cell_type": "code",
   "execution_count": 7,
   "metadata": {},
   "outputs": [
    {
     "data": {
      "text/html": [
       "<div>\n",
       "<style scoped>\n",
       "    .dataframe tbody tr th:only-of-type {\n",
       "        vertical-align: middle;\n",
       "    }\n",
       "\n",
       "    .dataframe tbody tr th {\n",
       "        vertical-align: top;\n",
       "    }\n",
       "\n",
       "    .dataframe thead th {\n",
       "        text-align: right;\n",
       "    }\n",
       "</style>\n",
       "<table border=\"1\" class=\"dataframe\">\n",
       "  <thead>\n",
       "    <tr style=\"text-align: right;\">\n",
       "      <th></th>\n",
       "      <th>provinsi</th>\n",
       "      <th>kab_kota</th>\n",
       "      <th>kecamatan</th>\n",
       "      <th>nama_sekolah</th>\n",
       "      <th>url</th>\n",
       "    </tr>\n",
       "  </thead>\n",
       "  <tbody>\n",
       "    <tr>\n",
       "      <th>0</th>\n",
       "      <td>Prov. Aceh</td>\n",
       "      <td>Kab. Aceh Barat</td>\n",
       "      <td>Kec. Arongan Lambalek</td>\n",
       "      <td>SD N SEUNEUBOK TEUNGOH</td>\n",
       "      <td>http://dapo.dikdasmen.kemdikbud.go.id/sekolah/...</td>\n",
       "    </tr>\n",
       "    <tr>\n",
       "      <th>1</th>\n",
       "      <td>Prov. Aceh</td>\n",
       "      <td>Kab. Aceh Barat</td>\n",
       "      <td>Kec. Arongan Lambalek</td>\n",
       "      <td>SD NEGERI ALUE BATEE</td>\n",
       "      <td>http://dapo.dikdasmen.kemdikbud.go.id/sekolah/...</td>\n",
       "    </tr>\n",
       "    <tr>\n",
       "      <th>2</th>\n",
       "      <td>Prov. Aceh</td>\n",
       "      <td>Kab. Aceh Barat</td>\n",
       "      <td>Kec. Arongan Lambalek</td>\n",
       "      <td>SD NEGERI ALUE SUNDAK</td>\n",
       "      <td>http://dapo.dikdasmen.kemdikbud.go.id/sekolah/...</td>\n",
       "    </tr>\n",
       "    <tr>\n",
       "      <th>3</th>\n",
       "      <td>Prov. Aceh</td>\n",
       "      <td>Kab. Aceh Barat</td>\n",
       "      <td>Kec. Arongan Lambalek</td>\n",
       "      <td>SD NEGERI ARONGAN WOYLA</td>\n",
       "      <td>http://dapo.dikdasmen.kemdikbud.go.id/sekolah/...</td>\n",
       "    </tr>\n",
       "    <tr>\n",
       "      <th>4</th>\n",
       "      <td>Prov. Aceh</td>\n",
       "      <td>Kab. Aceh Barat</td>\n",
       "      <td>Kec. Arongan Lambalek</td>\n",
       "      <td>SD NEGERI COT BULOH</td>\n",
       "      <td>http://dapo.dikdasmen.kemdikbud.go.id/sekolah/...</td>\n",
       "    </tr>\n",
       "  </tbody>\n",
       "</table>\n",
       "</div>"
      ],
      "text/plain": [
       "     provinsi         kab_kota              kecamatan  \\\n",
       "0  Prov. Aceh  Kab. Aceh Barat  Kec. Arongan Lambalek   \n",
       "1  Prov. Aceh  Kab. Aceh Barat  Kec. Arongan Lambalek   \n",
       "2  Prov. Aceh  Kab. Aceh Barat  Kec. Arongan Lambalek   \n",
       "3  Prov. Aceh  Kab. Aceh Barat  Kec. Arongan Lambalek   \n",
       "4  Prov. Aceh  Kab. Aceh Barat  Kec. Arongan Lambalek   \n",
       "\n",
       "              nama_sekolah                                                url  \n",
       "0   SD N SEUNEUBOK TEUNGOH  http://dapo.dikdasmen.kemdikbud.go.id/sekolah/...  \n",
       "1     SD NEGERI ALUE BATEE  http://dapo.dikdasmen.kemdikbud.go.id/sekolah/...  \n",
       "2    SD NEGERI ALUE SUNDAK  http://dapo.dikdasmen.kemdikbud.go.id/sekolah/...  \n",
       "3  SD NEGERI ARONGAN WOYLA  http://dapo.dikdasmen.kemdikbud.go.id/sekolah/...  \n",
       "4      SD NEGERI COT BULOH  http://dapo.dikdasmen.kemdikbud.go.id/sekolah/...  "
      ]
     },
     "execution_count": 7,
     "metadata": {},
     "output_type": "execute_result"
    }
   ],
   "source": [
    "school_urls.head()"
   ]
  },
  {
   "cell_type": "code",
   "execution_count": 8,
   "metadata": {},
   "outputs": [
    {
     "data": {
      "text/plain": [
       "array(['Prov. Aceh', 'Prov. Sumatera Barat', 'Prov. Nusa Tenggara Timur',\n",
       "       'Prov. Sumatera Utara', 'Prov. Papua', 'Prov. Bali',\n",
       "       'Prov. Kalimantan Selatan', 'Prov. Jawa Barat',\n",
       "       'Prov. Sulawesi Tengah', 'Prov. Kepulauan Bangka Belitung',\n",
       "       'Prov. Jawa Timur', 'Prov. Jawa Tengah', 'Prov. Sulawesi Selatan',\n",
       "       'Prov. D.I. Yogyakarta', 'Prov. Sumatera Selatan',\n",
       "       'Prov. Kalimantan Tengah', 'Prov. Jambi', 'Prov. Riau',\n",
       "       'Prov. Kalimantan Barat', 'Prov. Bengkulu',\n",
       "       'Prov. Kalimantan Timur', 'Prov. Nusa Tenggara Barat',\n",
       "       'Prov. Kepulauan Riau', 'Prov. Gorontalo', 'Prov. Sulawesi Utara',\n",
       "       'Prov. Sulawesi Tenggara', 'Prov. Kalimantan Utara',\n",
       "       'Prov. Maluku', 'Prov. Papua Barat', 'Prov. Maluku Utara',\n",
       "       'Prov. D.K.I. Jakarta', 'Prov. Lampung', 'Prov. Banten',\n",
       "       'Prov. Sulawesi Barat'], dtype=object)"
      ]
     },
     "execution_count": 8,
     "metadata": {},
     "output_type": "execute_result"
    }
   ],
   "source": [
    "school_urls.provinsi.unique()"
   ]
  },
  {
   "cell_type": "code",
   "execution_count": 9,
   "metadata": {},
   "outputs": [
    {
     "data": {
      "text/plain": [
       "provinsi\n",
       "Prov. Aceh                          3477\n",
       "Prov. Bali                          2448\n",
       "Prov. Banten                        4622\n",
       "Prov. Bengkulu                      1383\n",
       "Prov. D.I. Yogyakarta               1848\n",
       "Prov. D.K.I. Jakarta                2396\n",
       "Prov. Gorontalo                      942\n",
       "Prov. Jambi                         2465\n",
       "Prov. Jawa Barat                   19709\n",
       "Prov. Jawa Tengah                  19017\n",
       "Prov. Jawa Timur                   19254\n",
       "Prov. Kalimantan Barat              4422\n",
       "Prov. Kalimantan Selatan            2922\n",
       "Prov. Kalimantan Tengah             2639\n",
       "Prov. Kalimantan Timur              1896\n",
       "Prov. Kalimantan Utara               473\n",
       "Prov. Kepulauan Bangka Belitung      816\n",
       "Prov. Kepulauan Riau                 954\n",
       "Prov. Lampung                       4697\n",
       "Prov. Maluku                        1785\n",
       "Prov. Maluku Utara                  1313\n",
       "Prov. Nusa Tenggara Barat           3208\n",
       "Prov. Nusa Tenggara Timur           5114\n",
       "Prov. Papua                         2548\n",
       "Prov. Papua Barat                   1058\n",
       "Prov. Riau                          3708\n",
       "Prov. Sulawesi Barat                1329\n",
       "Prov. Sulawesi Selatan              6454\n",
       "Prov. Sulawesi Tengah               2900\n",
       "Prov. Sulawesi Tenggara             2317\n",
       "Prov. Sulawesi Utara                2233\n",
       "Prov. Sumatera Barat                4217\n",
       "Prov. Sumatera Selatan              4678\n",
       "Prov. Sumatera Utara                9739\n",
       "dtype: int64"
      ]
     },
     "execution_count": 9,
     "metadata": {},
     "output_type": "execute_result"
    }
   ],
   "source": [
    "school_urls.groupby('provinsi').size()"
   ]
  },
  {
   "cell_type": "code",
   "execution_count": 10,
   "metadata": {},
   "outputs": [
    {
     "data": {
      "text/plain": [
       "kecamatan\n",
       "Kec. Arongan Lambalek    12\n",
       "Kec. Bubon                5\n",
       "Kec. Johan Pahlawan      29\n",
       "Kec. Kaway XVI           17\n",
       "Kec. Meureubo            19\n",
       "Kec. Pantee Ceureumen    12\n",
       "Kec. Panton Reu           8\n",
       "Kec. Samatiga            12\n",
       "Kec. Sungai Mas           9\n",
       "Kec. Woyla               12\n",
       "Kec. Woyla Barat          9\n",
       "Kec. Woyla Timur          9\n",
       "dtype: int64"
      ]
     },
     "execution_count": 10,
     "metadata": {},
     "output_type": "execute_result"
    }
   ],
   "source": [
    "school_urls[(school_urls['provinsi']=='Prov. Aceh')&(school_urls['kab_kota']=='Kab. Aceh Barat')].groupby('kecamatan').size()"
   ]
  },
  {
   "cell_type": "code",
   "execution_count": null,
   "metadata": {},
   "outputs": [],
   "source": []
  },
  {
   "cell_type": "markdown",
   "metadata": {},
   "source": [
    "## URL"
   ]
  },
  {
   "cell_type": "code",
   "execution_count": 11,
   "metadata": {},
   "outputs": [],
   "source": [
    "MAIN_URL=\"http://dapo.dikdasmen.kemdikbud.go.id/sp\""
   ]
  },
  {
   "cell_type": "code",
   "execution_count": 12,
   "metadata": {},
   "outputs": [
    {
     "data": {
      "text/plain": [
       "0    http://dapo.dikdasmen.kemdikbud.go.id/sekolah/...\n",
       "1    http://dapo.dikdasmen.kemdikbud.go.id/sekolah/...\n",
       "2    http://dapo.dikdasmen.kemdikbud.go.id/sekolah/...\n",
       "3    http://dapo.dikdasmen.kemdikbud.go.id/sekolah/...\n",
       "4    http://dapo.dikdasmen.kemdikbud.go.id/sekolah/...\n",
       "Name: url, dtype: object"
      ]
     },
     "execution_count": 12,
     "metadata": {},
     "output_type": "execute_result"
    }
   ],
   "source": [
    "school_urls.url.head()"
   ]
  },
  {
   "cell_type": "code",
   "execution_count": null,
   "metadata": {},
   "outputs": [],
   "source": []
  },
  {
   "cell_type": "markdown",
   "metadata": {},
   "source": [
    "## Get The Details"
   ]
  },
  {
   "cell_type": "code",
   "execution_count": 13,
   "metadata": {},
   "outputs": [],
   "source": [
    "# https://towardsdatascience.com/web-scraping-html-tables-with-python-c9baba21059\n",
    "def get_url_area(URL):\n",
    "    xr1=random.randint(5,10)\n",
    "    xr2=random.randint(3,xr1)\n",
    "    browser = webdriver.Chrome(CRM_PATH)\n",
    "    time.sleep(xr2)\n",
    "    browser.get(URL)\n",
    "    xr1=random.randint(7,(xr1+xr2))\n",
    "    xr2=random.randint(4,xr1)\n",
    "    time.sleep(xr1+xr2)\n",
    "    html_source = browser.page_source\n",
    "    browser.close()\n",
    "\n",
    "    #Store the contents of the website under doc\n",
    "    doc = lh.fromstring(html_source)\n",
    "    #Parse data that are stored between <tr>..</tr> of HTML\n",
    "    area = [s.text_content() for s in doc.xpath(\"//tr//a\")]\n",
    "    url_area = [(MAIN_URL[:-3]+s).strip() for s in doc.xpath(\"//tr//a/@href\")]\n",
    "\n",
    "    data=pd.DataFrame({'areas':area,'url_areas':url_area})\n",
    "    return data"
   ]
  },
  {
   "cell_type": "code",
   "execution_count": 50,
   "metadata": {},
   "outputs": [],
   "source": [
    "def get_long_lat(main_school_url):\n",
    "    try :\n",
    "        req = requests.get(main_school_url)\n",
    "        html_source=req.text\n",
    "        doc = lh.fromstring(html_source)\n",
    "        ss=doc.xpath(\"//div[@class='tab-content']\")\n",
    "        # ss2=doc.xpath('//*[@id=\"rekapitulasi\"]/div[3]/div[2]/table/tbody/tr[1]/td[3]')\n",
    "        # tostring(ss2[0])\n",
    "        ss0=ss[0]\n",
    "        ss0_content=ss0.text_content()\n",
    "        res=','.join([k.strip() for k in ss0_content.split('\\n') if ('lintang' in k.lower())|('bujur' in k.lower())])\n",
    "    except:\n",
    "        print('miss : '+ main_school_url)\n",
    "        res=np.nan\n",
    "    return res"
   ]
  },
  {
   "cell_type": "code",
   "execution_count": 15,
   "metadata": {},
   "outputs": [],
   "source": [
    "main_school_url=school_urls.url.tolist()[12]"
   ]
  },
  {
   "cell_type": "code",
   "execution_count": 16,
   "metadata": {},
   "outputs": [
    {
     "name": "stdout",
     "output_type": "stream",
     "text": [
      "0.34104084968566895\n"
     ]
    }
   ],
   "source": [
    "L0=time.time()\n",
    "get_long_lat(main_school_url)\n",
    "print(time.time()-L0)"
   ]
  },
  {
   "cell_type": "code",
   "execution_count": 17,
   "metadata": {},
   "outputs": [
    {
     "data": {
      "text/plain": [
       "'Lintang : 4.2383000,Bujur : 96.0072000'"
      ]
     },
     "execution_count": 17,
     "metadata": {},
     "output_type": "execute_result"
    }
   ],
   "source": [
    "get_long_lat(main_school_url)"
   ]
  },
  {
   "cell_type": "code",
   "execution_count": null,
   "metadata": {},
   "outputs": [],
   "source": []
  },
  {
   "cell_type": "markdown",
   "metadata": {},
   "source": [
    "## Start The Batch"
   ]
  },
  {
   "cell_type": "code",
   "execution_count": 18,
   "metadata": {},
   "outputs": [
    {
     "data": {
      "text/plain": [
       "(148981, 5)"
      ]
     },
     "execution_count": 18,
     "metadata": {},
     "output_type": "execute_result"
    }
   ],
   "source": [
    "school_urls.shape"
   ]
  },
  {
   "cell_type": "code",
   "execution_count": 19,
   "metadata": {},
   "outputs": [],
   "source": [
    "school_urls_p=school_urls.reset_index()"
   ]
  },
  {
   "cell_type": "code",
   "execution_count": 20,
   "metadata": {},
   "outputs": [],
   "source": [
    "list_school_urls=[]\n",
    "for i in range(149):\n",
    "    list_school_urls.append(school_urls_p[0+(i*1000):1000+(i*1000)])"
   ]
  },
  {
   "cell_type": "code",
   "execution_count": 51,
   "metadata": {},
   "outputs": [
    {
     "name": "stdout",
     "output_type": "stream",
     "text": [
      "miss : http://dapo.dikdasmen.kemdikbud.go.id/sekolah/A8384EBECD8865DD21BD\n"
     ]
    },
    {
     "name": "stderr",
     "output_type": "stream",
     "text": [
      "/Users/alamhanz/anaconda/envs/py36/lib/python3.6/site-packages/ipykernel/__main__.py:5: SettingWithCopyWarning: \n",
      "A value is trying to be set on a copy of a slice from a DataFrame.\n",
      "Try using .loc[row_indexer,col_indexer] = value instead\n",
      "\n",
      "See the caveats in the documentation: http://pandas.pydata.org/pandas-docs/stable/indexing.html#indexing-view-versus-copy\n"
     ]
    },
    {
     "name": "stdout",
     "output_type": "stream",
     "text": [
      "4 is done in 371.0368118286133\n",
      "20 is done in 362.2525300979614\n",
      "miss : http://dapo.dikdasmen.kemdikbud.go.id/sekolah/AF196A81A5669E35CE05\n",
      "26 is done in 352.59749722480774\n",
      "miss : http://dapo.dikdasmen.kemdikbud.go.id/sekolah/764BC65E95BB0A478389\n",
      "miss : http://dapo.dikdasmen.kemdikbud.go.id/sekolah/FAFD5E8079442A87D394\n",
      "44 is done in 377.5468580722809\n",
      "miss : http://dapo.dikdasmen.kemdikbud.go.id/sekolah/6CD5A9B3922E2A13FD50\n",
      "miss : http://dapo.dikdasmen.kemdikbud.go.id/sekolah/0C83646F7877A7CD19E0\n",
      "miss : http://dapo.dikdasmen.kemdikbud.go.id/sekolah/B0A8334C3FFC0B851F5C\n",
      "miss : http://dapo.dikdasmen.kemdikbud.go.id/sekolah/6CEBDFDA1D0DF1F216E3\n",
      "45 is done in 374.6548271179199\n",
      "48 is done in 366.86664724349976\n",
      "miss : http://dapo.dikdasmen.kemdikbud.go.id/sekolah/B746EF8B7D02E9750522\n",
      "miss : http://dapo.dikdasmen.kemdikbud.go.id/sekolah/7BD6C58D527F5925E8EE\n",
      "64 is done in 379.47947907447815\n",
      "miss : http://dapo.dikdasmen.kemdikbud.go.id/sekolah/B189387EC8CA6135F426\n",
      "76 is done in 382.6567151546478\n",
      "81 is done in 386.8217661380768\n",
      "miss : http://dapo.dikdasmen.kemdikbud.go.id/sekolah/FF364A5DDD041F479DF4\n",
      "90 is done in 390.6284227371216\n",
      "miss : http://dapo.dikdasmen.kemdikbud.go.id/sekolah/6C571A7EE935B4167D91\n",
      "130 is done in 415.8288140296936\n",
      "miss : http://dapo.dikdasmen.kemdikbud.go.id/sekolah/835E7F230D6565BFC722\n",
      "132 is done in 441.5824930667877\n",
      "miss : http://dapo.dikdasmen.kemdikbud.go.id/sekolah/F94F6D318888519D5D13\n",
      "137 is done in 457.72000789642334\n",
      "miss : http://dapo.dikdasmen.kemdikbud.go.id/sekolah/920C385C9A2FCC4E8E70\n",
      "141 is done in 357.3888478279114\n",
      "miss : http://dapo.dikdasmen.kemdikbud.go.id/sekolah/1B1D15D0E8B4BC6B4FCE\n",
      "143 is done in 350.7966170310974\n",
      "144 is done in 360.5180742740631\n"
     ]
    }
   ],
   "source": [
    "## Miss : 4, 20, 26, 44, 45, 48, 64, 76, 81, 90, 130, 132, 137, 141, 143,144\n",
    "for i in [4, 20, 26, 44, 45, 48, 64, 76, 81, 90, 130, 132, 137, 141, 143,144]:\n",
    "    L0=time.time()\n",
    "    df=list_school_urls[i]\n",
    "    df['coordinate']=df.url.apply(lambda x : get_long_lat(x))\n",
    "    df.to_csv(INTERIM_PATH_TMP+'data_coord_'+str(i)+'.csv',index=False)\n",
    "    print(str(i)+\" is done in \"+str(time.time()-L0))"
   ]
  },
  {
   "cell_type": "code",
   "execution_count": null,
   "metadata": {},
   "outputs": [],
   "source": []
  },
  {
   "cell_type": "code",
   "execution_count": null,
   "metadata": {},
   "outputs": [],
   "source": []
  },
  {
   "cell_type": "code",
   "execution_count": 52,
   "metadata": {},
   "outputs": [
    {
     "data": {
      "text/plain": [
       "(148981, 5)"
      ]
     },
     "execution_count": 52,
     "metadata": {},
     "output_type": "execute_result"
    }
   ],
   "source": [
    "school_urls.shape"
   ]
  },
  {
   "cell_type": "code",
   "execution_count": 56,
   "metadata": {},
   "outputs": [],
   "source": [
    "#Merge LongLat\n",
    "df_latlong_list=[pd.read_csv(INTERIM_PATH_TMP+f) for f in os.listdir(INTERIM_PATH_TMP)]"
   ]
  },
  {
   "cell_type": "code",
   "execution_count": 57,
   "metadata": {},
   "outputs": [],
   "source": [
    "df_latlong=pd.concat(df_latlong_list)"
   ]
  },
  {
   "cell_type": "code",
   "execution_count": 59,
   "metadata": {},
   "outputs": [
    {
     "data": {
      "text/plain": [
       "(148981, 7)"
      ]
     },
     "execution_count": 59,
     "metadata": {},
     "output_type": "execute_result"
    }
   ],
   "source": [
    "df_latlong.shape"
   ]
  },
  {
   "cell_type": "code",
   "execution_count": 79,
   "metadata": {},
   "outputs": [],
   "source": [
    "df_latlong.coordinate=df_latlong.coordinate.astype(str)"
   ]
  },
  {
   "cell_type": "code",
   "execution_count": 106,
   "metadata": {},
   "outputs": [],
   "source": [
    "def extract_lintang(x):\n",
    "    try:\n",
    "        content=x.split(',')\n",
    "        if len(content)>2:\n",
    "            content0=content[-2:]\n",
    "        else:\n",
    "            content0=content.copy()\n",
    "            \n",
    "        lin=float(content0[0].split(':')[1])\n",
    "    except:\n",
    "        lin=np.nan\n",
    "    return lin\n",
    "\n",
    "def extract_bujur(x):\n",
    "    try:\n",
    "        content=x.split(',')\n",
    "        if len(content)>2:\n",
    "            content0=content[-2:]\n",
    "        else:\n",
    "            content0=content.copy()\n",
    "            \n",
    "        buj=float(content0[1].split(':')[1]) \n",
    "    except:\n",
    "        buj=np.nan\n",
    "    return buj"
   ]
  },
  {
   "cell_type": "code",
   "execution_count": 107,
   "metadata": {},
   "outputs": [],
   "source": [
    "df_latlong['lintang']=df_latlong.coordinate.apply(lambda x: extract_lintang(x)).astype(float)\n",
    "df_latlong['bujur']=df_latlong.coordinate.apply(lambda x: extract_bujur(x)).astype(float)"
   ]
  },
  {
   "cell_type": "code",
   "execution_count": 115,
   "metadata": {},
   "outputs": [],
   "source": [
    "# df_latlong[df_latlong.lintang.isnull()]\n",
    "# ss=[1,2,3]\n",
    "# ss[-2:]"
   ]
  },
  {
   "cell_type": "code",
   "execution_count": 116,
   "metadata": {},
   "outputs": [],
   "source": [
    "# SD KRISTEN II HUTUMURI, http://dapo.dikdasmen.kemdikbud.go.id/sekolah/3968204DB247DDF93644"
   ]
  },
  {
   "cell_type": "code",
   "execution_count": null,
   "metadata": {},
   "outputs": [],
   "source": []
  },
  {
   "cell_type": "code",
   "execution_count": 118,
   "metadata": {},
   "outputs": [],
   "source": [
    "df_latlong.to_csv(INTERIM_PATH+\"20190629_sekolah_genap2019_data_latlong_SD.csv\",index=False)"
   ]
  },
  {
   "cell_type": "code",
   "execution_count": null,
   "metadata": {},
   "outputs": [],
   "source": []
  }
 ],
 "metadata": {
  "kernelspec": {
   "display_name": "Python [conda env:py36]",
   "language": "python",
   "name": "conda-env-py36-py"
  },
  "language_info": {
   "codemirror_mode": {
    "name": "ipython",
    "version": 3
   },
   "file_extension": ".py",
   "mimetype": "text/x-python",
   "name": "python",
   "nbconvert_exporter": "python",
   "pygments_lexer": "ipython3",
   "version": "3.6.7"
  }
 },
 "nbformat": 4,
 "nbformat_minor": 2
}
